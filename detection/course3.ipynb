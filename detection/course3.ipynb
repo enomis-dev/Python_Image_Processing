{
 "cells": [
  {
   "cell_type": "markdown",
   "id": "1d18a17c",
   "metadata": {},
   "source": [
    "# Learn how to use alread trained deep learning models for object detection"
   ]
  },
  {
   "cell_type": "code",
   "execution_count": null,
   "id": "40f09cce",
   "metadata": {},
   "outputs": [],
   "source": [
    "import os\n",
    "from pathlib import Path"
   ]
  },
  {
   "cell_type": "code",
   "execution_count": null,
   "id": "446ef4a4",
   "metadata": {},
   "outputs": [],
   "source": [
    "!git clone https://github.com/WongKinYiu/yolov7.git"
   ]
  },
  {
   "cell_type": "code",
   "execution_count": null,
   "id": "a9901869",
   "metadata": {},
   "outputs": [],
   "source": [
    "!pip install -r yolov7/requirements.txt"
   ]
  },
  {
   "cell_type": "code",
   "execution_count": 2,
   "id": "75106fea",
   "metadata": {},
   "outputs": [],
   "source": [
    "source_path = Path().absolute().parent\n",
    "image_path = os.path.join(source_path, 'Data', 'lena.png')"
   ]
  },
  {
   "cell_type": "code",
   "execution_count": 3,
   "id": "1d11d145",
   "metadata": {},
   "outputs": [
    {
     "data": {
      "text/plain": [
       "'C:\\\\Users\\\\degas\\\\Documents\\\\Github\\\\Python_Image_Processing\\\\Data\\\\lena.png'"
      ]
     },
     "execution_count": 3,
     "metadata": {},
     "output_type": "execute_result"
    }
   ],
   "source": [
    "image_path"
   ]
  },
  {
   "cell_type": "code",
   "execution_count": 4,
   "id": "c5bafe95",
   "metadata": {},
   "outputs": [],
   "source": [
    "os.chdir(\"./yolov7/\")"
   ]
  },
  {
   "cell_type": "code",
   "execution_count": 6,
   "id": "3a0aed52",
   "metadata": {},
   "outputs": [
    {
     "name": "stdout",
     "output_type": "stream",
     "text": [
      "Namespace(weights=['yolov7.pt'], source='image_path', img_size=640, conf_thres=0.25, iou_thres=0.45, device='', view_img=False, save_txt=False, save_conf=False, nosave=False, classes=None, agnostic_nms=False, augment=False, update=False, project='runs/detect', name='exp', exist_ok=False, no_trace=False)\n",
      "Fusing layers... \n",
      "RepConv.fuse_repvgg_block\n",
      "RepConv.fuse_repvgg_block\n",
      "RepConv.fuse_repvgg_block\n",
      " Convert model to Traced-model... \n",
      " traced_script_module saved! \n",
      " model is traced! \n",
      "\n"
     ]
    },
    {
     "name": "stderr",
     "output_type": "stream",
     "text": [
      "YOLOR  v0.1-122-g3b41c2c torch 2.0.1+cpu CPU\n",
      "\n",
      "Model Summary: 306 layers, 36905341 parameters, 6652669 gradients\n",
      "Traceback (most recent call last):\n",
      "  File \"C:\\Users\\degas\\Documents\\Github\\Python_Image_Processing\\detection\\yolov7\\detect.py\", line 196, in <module>\n",
      "    detect()\n",
      "  File \"C:\\Users\\degas\\Documents\\Github\\Python_Image_Processing\\detection\\yolov7\\detect.py\", line 57, in detect\n",
      "    dataset = LoadImages(source, img_size=imgsz, stride=stride)\n",
      "  File \"C:\\Users\\degas\\Documents\\Github\\Python_Image_Processing\\detection\\yolov7\\utils\\datasets.py\", line 138, in __init__\n",
      "    raise Exception(f'ERROR: {p} does not exist')\n",
      "Exception: ERROR: C:\\Users\\degas\\Documents\\Github\\Python_Image_Processing\\detection\\yolov7\\image_path does not exist\n"
     ]
    }
   ],
   "source": [
    "!python detect.py --weights yolov7.pt --conf 0.25 --img-size 640 --source C:\\\\Users\\\\degas\\\\Documents\\\\Github\\\\Python_Image_Processing\\\\Data\\\\lena.png"
   ]
  },
  {
   "cell_type": "code",
   "execution_count": null,
   "id": "de119671",
   "metadata": {},
   "outputs": [],
   "source": []
  }
 ],
 "metadata": {
  "kernelspec": {
   "display_name": "Python 3 (ipykernel)",
   "language": "python",
   "name": "python3"
  },
  "language_info": {
   "codemirror_mode": {
    "name": "ipython",
    "version": 3
   },
   "file_extension": ".py",
   "mimetype": "text/x-python",
   "name": "python",
   "nbconvert_exporter": "python",
   "pygments_lexer": "ipython3",
   "version": "3.10.11"
  }
 },
 "nbformat": 4,
 "nbformat_minor": 5
}
