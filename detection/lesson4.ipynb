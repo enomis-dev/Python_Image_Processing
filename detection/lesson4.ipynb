{
 "cells": [
  {
   "attachments": {},
   "cell_type": "markdown",
   "id": "1d18a17c",
   "metadata": {},
   "source": [
    "# Learn how to use deep learning model yolov7 for object detection in videos"
   ]
  },
  {
   "attachments": {},
   "cell_type": "markdown",
   "id": "ee6358c5",
   "metadata": {},
   "source": [
    "In this notebook we will easy how to quickly use a state of the art algorithm to do object detection on a short video\n",
    "- Link to the github project https://github.com/WongKinYiu/yolov7/tree/main/inference/images\n",
    "- Paper link https://arxiv.org/pdf/2207.02696.pdf"
   ]
  },
  {
   "cell_type": "code",
   "execution_count": 1,
   "id": "40f09cce",
   "metadata": {},
   "outputs": [],
   "source": [
    "import os\n",
    "from pathlib import Path"
   ]
  },
  {
   "cell_type": "code",
   "execution_count": 2,
   "id": "446ef4a4",
   "metadata": {},
   "outputs": [
    {
     "name": "stderr",
     "output_type": "stream",
     "text": [
      "fatal: destination path 'yolov7' already exists and is not an empty directory.\n"
     ]
    }
   ],
   "source": [
    "# clone git repo of the yolov7 project\n",
    "!git clone https://github.com/WongKinYiu/yolov7.git"
   ]
  },
  {
   "cell_type": "code",
   "execution_count": 3,
   "id": "a9901869",
   "metadata": {},
   "outputs": [
    {
     "name": "stdout",
     "output_type": "stream",
     "text": [
      "Requirement already satisfied: matplotlib>=3.2.2 in c:\\users\\degas\\documents\\github\\python_image_processing\\venv\\lib\\site-packages (from -r yolov7/requirements.txt (line 4)) (3.7.1)\n",
      "Requirement already satisfied: numpy<1.24.0,>=1.18.5 in c:\\users\\degas\\documents\\github\\python_image_processing\\venv\\lib\\site-packages (from -r yolov7/requirements.txt (line 5)) (1.23.5)\n",
      "Requirement already satisfied: opencv-python>=4.1.1 in c:\\users\\degas\\documents\\github\\python_image_processing\\venv\\lib\\site-packages (from -r yolov7/requirements.txt (line 6)) (4.7.0.72)\n",
      "Requirement already satisfied: Pillow>=7.1.2 in c:\\users\\degas\\documents\\github\\python_image_processing\\venv\\lib\\site-packages (from -r yolov7/requirements.txt (line 7)) (9.5.0)\n",
      "Requirement already satisfied: PyYAML>=5.3.1 in c:\\users\\degas\\documents\\github\\python_image_processing\\venv\\lib\\site-packages (from -r yolov7/requirements.txt (line 8)) (6.0)\n",
      "Requirement already satisfied: requests>=2.23.0 in c:\\users\\degas\\documents\\github\\python_image_processing\\venv\\lib\\site-packages (from -r yolov7/requirements.txt (line 9)) (2.30.0)\n",
      "Requirement already satisfied: scipy>=1.4.1 in c:\\users\\degas\\documents\\github\\python_image_processing\\venv\\lib\\site-packages (from -r yolov7/requirements.txt (line 10)) (1.10.1)\n",
      "Requirement already satisfied: torch!=1.12.0,>=1.7.0 in c:\\users\\degas\\documents\\github\\python_image_processing\\venv\\lib\\site-packages (from -r yolov7/requirements.txt (line 11)) (2.0.1)\n",
      "Requirement already satisfied: torchvision!=0.13.0,>=0.8.1 in c:\\users\\degas\\documents\\github\\python_image_processing\\venv\\lib\\site-packages (from -r yolov7/requirements.txt (line 12)) (0.15.2)\n",
      "Requirement already satisfied: tqdm>=4.41.0 in c:\\users\\degas\\documents\\github\\python_image_processing\\venv\\lib\\site-packages (from -r yolov7/requirements.txt (line 13)) (4.65.0)\n",
      "Requirement already satisfied: protobuf<4.21.3 in c:\\users\\degas\\documents\\github\\python_image_processing\\venv\\lib\\site-packages (from -r yolov7/requirements.txt (line 14)) (4.21.2)\n",
      "Requirement already satisfied: tensorboard>=2.4.1 in c:\\users\\degas\\documents\\github\\python_image_processing\\venv\\lib\\site-packages (from -r yolov7/requirements.txt (line 17)) (2.13.0)\n",
      "Requirement already satisfied: pandas>=1.1.4 in c:\\users\\degas\\documents\\github\\python_image_processing\\venv\\lib\\site-packages (from -r yolov7/requirements.txt (line 21)) (2.0.1)\n",
      "Requirement already satisfied: seaborn>=0.11.0 in c:\\users\\degas\\documents\\github\\python_image_processing\\venv\\lib\\site-packages (from -r yolov7/requirements.txt (line 22)) (0.12.2)\n",
      "Requirement already satisfied: ipython in c:\\users\\degas\\documents\\github\\python_image_processing\\venv\\lib\\site-packages (from -r yolov7/requirements.txt (line 34)) (8.13.2)\n",
      "Requirement already satisfied: psutil in c:\\users\\degas\\documents\\github\\python_image_processing\\venv\\lib\\site-packages (from -r yolov7/requirements.txt (line 35)) (5.9.5)\n",
      "Requirement already satisfied: thop in c:\\users\\degas\\documents\\github\\python_image_processing\\venv\\lib\\site-packages (from -r yolov7/requirements.txt (line 36)) (0.1.1.post2209072238)\n",
      "Requirement already satisfied: contourpy>=1.0.1 in c:\\users\\degas\\documents\\github\\python_image_processing\\venv\\lib\\site-packages (from matplotlib>=3.2.2->-r yolov7/requirements.txt (line 4)) (1.0.7)\n",
      "Requirement already satisfied: cycler>=0.10 in c:\\users\\degas\\documents\\github\\python_image_processing\\venv\\lib\\site-packages (from matplotlib>=3.2.2->-r yolov7/requirements.txt (line 4)) (0.11.0)\n",
      "Requirement already satisfied: fonttools>=4.22.0 in c:\\users\\degas\\documents\\github\\python_image_processing\\venv\\lib\\site-packages (from matplotlib>=3.2.2->-r yolov7/requirements.txt (line 4)) (4.39.4)\n",
      "Requirement already satisfied: kiwisolver>=1.0.1 in c:\\users\\degas\\documents\\github\\python_image_processing\\venv\\lib\\site-packages (from matplotlib>=3.2.2->-r yolov7/requirements.txt (line 4)) (1.4.4)\n",
      "Requirement already satisfied: packaging>=20.0 in c:\\users\\degas\\documents\\github\\python_image_processing\\venv\\lib\\site-packages (from matplotlib>=3.2.2->-r yolov7/requirements.txt (line 4)) (23.1)\n",
      "Requirement already satisfied: pyparsing>=2.3.1 in c:\\users\\degas\\documents\\github\\python_image_processing\\venv\\lib\\site-packages (from matplotlib>=3.2.2->-r yolov7/requirements.txt (line 4)) (3.0.9)\n",
      "Requirement already satisfied: python-dateutil>=2.7 in c:\\users\\degas\\documents\\github\\python_image_processing\\venv\\lib\\site-packages (from matplotlib>=3.2.2->-r yolov7/requirements.txt (line 4)) (2.8.2)\n",
      "Requirement already satisfied: charset-normalizer<4,>=2 in c:\\users\\degas\\documents\\github\\python_image_processing\\venv\\lib\\site-packages (from requests>=2.23.0->-r yolov7/requirements.txt (line 9)) (3.1.0)\n",
      "Requirement already satisfied: idna<4,>=2.5 in c:\\users\\degas\\documents\\github\\python_image_processing\\venv\\lib\\site-packages (from requests>=2.23.0->-r yolov7/requirements.txt (line 9)) (3.4)\n",
      "Requirement already satisfied: urllib3<3,>=1.21.1 in c:\\users\\degas\\documents\\github\\python_image_processing\\venv\\lib\\site-packages (from requests>=2.23.0->-r yolov7/requirements.txt (line 9)) (1.26.15)\n",
      "Requirement already satisfied: certifi>=2017.4.17 in c:\\users\\degas\\documents\\github\\python_image_processing\\venv\\lib\\site-packages (from requests>=2.23.0->-r yolov7/requirements.txt (line 9)) (2023.5.7)\n",
      "Requirement already satisfied: filelock in c:\\users\\degas\\documents\\github\\python_image_processing\\venv\\lib\\site-packages (from torch!=1.12.0,>=1.7.0->-r yolov7/requirements.txt (line 11)) (3.12.0)\n",
      "Requirement already satisfied: typing-extensions in c:\\users\\degas\\documents\\github\\python_image_processing\\venv\\lib\\site-packages (from torch!=1.12.0,>=1.7.0->-r yolov7/requirements.txt (line 11)) (4.5.0)\n",
      "Requirement already satisfied: sympy in c:\\users\\degas\\documents\\github\\python_image_processing\\venv\\lib\\site-packages (from torch!=1.12.0,>=1.7.0->-r yolov7/requirements.txt (line 11)) (1.12)\n",
      "Requirement already satisfied: networkx in c:\\users\\degas\\documents\\github\\python_image_processing\\venv\\lib\\site-packages (from torch!=1.12.0,>=1.7.0->-r yolov7/requirements.txt (line 11)) (3.1)\n",
      "Requirement already satisfied: jinja2 in c:\\users\\degas\\documents\\github\\python_image_processing\\venv\\lib\\site-packages (from torch!=1.12.0,>=1.7.0->-r yolov7/requirements.txt (line 11)) (3.1.2)\n",
      "Requirement already satisfied: colorama in c:\\users\\degas\\documents\\github\\python_image_processing\\venv\\lib\\site-packages (from tqdm>=4.41.0->-r yolov7/requirements.txt (line 13)) (0.4.6)\n",
      "Requirement already satisfied: absl-py>=0.4 in c:\\users\\degas\\documents\\github\\python_image_processing\\venv\\lib\\site-packages (from tensorboard>=2.4.1->-r yolov7/requirements.txt (line 17)) (1.4.0)\n",
      "Requirement already satisfied: grpcio>=1.48.2 in c:\\users\\degas\\documents\\github\\python_image_processing\\venv\\lib\\site-packages (from tensorboard>=2.4.1->-r yolov7/requirements.txt (line 17)) (1.54.2)\n",
      "Requirement already satisfied: google-auth<3,>=1.6.3 in c:\\users\\degas\\documents\\github\\python_image_processing\\venv\\lib\\site-packages (from tensorboard>=2.4.1->-r yolov7/requirements.txt (line 17)) (2.18.1)\n",
      "Requirement already satisfied: google-auth-oauthlib<1.1,>=0.5 in c:\\users\\degas\\documents\\github\\python_image_processing\\venv\\lib\\site-packages (from tensorboard>=2.4.1->-r yolov7/requirements.txt (line 17)) (1.0.0)\n",
      "Requirement already satisfied: markdown>=2.6.8 in c:\\users\\degas\\documents\\github\\python_image_processing\\venv\\lib\\site-packages (from tensorboard>=2.4.1->-r yolov7/requirements.txt (line 17)) (3.4.3)\n",
      "Requirement already satisfied: setuptools>=41.0.0 in c:\\users\\degas\\documents\\github\\python_image_processing\\venv\\lib\\site-packages (from tensorboard>=2.4.1->-r yolov7/requirements.txt (line 17)) (65.5.0)\n",
      "Requirement already satisfied: tensorboard-data-server<0.8.0,>=0.7.0 in c:\\users\\degas\\documents\\github\\python_image_processing\\venv\\lib\\site-packages (from tensorboard>=2.4.1->-r yolov7/requirements.txt (line 17)) (0.7.0)\n",
      "Requirement already satisfied: werkzeug>=1.0.1 in c:\\users\\degas\\documents\\github\\python_image_processing\\venv\\lib\\site-packages (from tensorboard>=2.4.1->-r yolov7/requirements.txt (line 17)) (2.3.4)\n",
      "Requirement already satisfied: wheel>=0.26 in c:\\users\\degas\\documents\\github\\python_image_processing\\venv\\lib\\site-packages (from tensorboard>=2.4.1->-r yolov7/requirements.txt (line 17)) (0.40.0)\n",
      "Requirement already satisfied: pytz>=2020.1 in c:\\users\\degas\\documents\\github\\python_image_processing\\venv\\lib\\site-packages (from pandas>=1.1.4->-r yolov7/requirements.txt (line 21)) (2023.3)\n",
      "Requirement already satisfied: tzdata>=2022.1 in c:\\users\\degas\\documents\\github\\python_image_processing\\venv\\lib\\site-packages (from pandas>=1.1.4->-r yolov7/requirements.txt (line 21)) (2023.3)\n",
      "Requirement already satisfied: backcall in c:\\users\\degas\\documents\\github\\python_image_processing\\venv\\lib\\site-packages (from ipython->-r yolov7/requirements.txt (line 34)) (0.2.0)\n",
      "Requirement already satisfied: decorator in c:\\users\\degas\\documents\\github\\python_image_processing\\venv\\lib\\site-packages (from ipython->-r yolov7/requirements.txt (line 34)) (5.1.1)\n",
      "Requirement already satisfied: jedi>=0.16 in c:\\users\\degas\\documents\\github\\python_image_processing\\venv\\lib\\site-packages (from ipython->-r yolov7/requirements.txt (line 34)) (0.18.2)\n",
      "Requirement already satisfied: matplotlib-inline in c:\\users\\degas\\documents\\github\\python_image_processing\\venv\\lib\\site-packages (from ipython->-r yolov7/requirements.txt (line 34)) (0.1.6)\n",
      "Requirement already satisfied: pickleshare in c:\\users\\degas\\documents\\github\\python_image_processing\\venv\\lib\\site-packages (from ipython->-r yolov7/requirements.txt (line 34)) (0.7.5)\n",
      "Requirement already satisfied: prompt-toolkit!=3.0.37,<3.1.0,>=3.0.30 in c:\\users\\degas\\documents\\github\\python_image_processing\\venv\\lib\\site-packages (from ipython->-r yolov7/requirements.txt (line 34)) (3.0.38)\n",
      "Requirement already satisfied: pygments>=2.4.0 in c:\\users\\degas\\documents\\github\\python_image_processing\\venv\\lib\\site-packages (from ipython->-r yolov7/requirements.txt (line 34)) (2.15.1)\n",
      "Requirement already satisfied: stack-data in c:\\users\\degas\\documents\\github\\python_image_processing\\venv\\lib\\site-packages (from ipython->-r yolov7/requirements.txt (line 34)) (0.6.2)\n",
      "Requirement already satisfied: traitlets>=5 in c:\\users\\degas\\documents\\github\\python_image_processing\\venv\\lib\\site-packages (from ipython->-r yolov7/requirements.txt (line 34)) (5.9.0)\n",
      "Requirement already satisfied: cachetools<6.0,>=2.0.0 in c:\\users\\degas\\documents\\github\\python_image_processing\\venv\\lib\\site-packages (from google-auth<3,>=1.6.3->tensorboard>=2.4.1->-r yolov7/requirements.txt (line 17)) (5.3.0)\n",
      "Requirement already satisfied: pyasn1-modules>=0.2.1 in c:\\users\\degas\\documents\\github\\python_image_processing\\venv\\lib\\site-packages (from google-auth<3,>=1.6.3->tensorboard>=2.4.1->-r yolov7/requirements.txt (line 17)) (0.3.0)\n",
      "Requirement already satisfied: six>=1.9.0 in c:\\users\\degas\\documents\\github\\python_image_processing\\venv\\lib\\site-packages (from google-auth<3,>=1.6.3->tensorboard>=2.4.1->-r yolov7/requirements.txt (line 17)) (1.16.0)\n",
      "Requirement already satisfied: rsa<5,>=3.1.4 in c:\\users\\degas\\documents\\github\\python_image_processing\\venv\\lib\\site-packages (from google-auth<3,>=1.6.3->tensorboard>=2.4.1->-r yolov7/requirements.txt (line 17)) (4.9)\n",
      "Requirement already satisfied: requests-oauthlib>=0.7.0 in c:\\users\\degas\\documents\\github\\python_image_processing\\venv\\lib\\site-packages (from google-auth-oauthlib<1.1,>=0.5->tensorboard>=2.4.1->-r yolov7/requirements.txt (line 17)) (1.3.1)\n",
      "Requirement already satisfied: parso<0.9.0,>=0.8.0 in c:\\users\\degas\\documents\\github\\python_image_processing\\venv\\lib\\site-packages (from jedi>=0.16->ipython->-r yolov7/requirements.txt (line 34)) (0.8.3)\n",
      "Requirement already satisfied: wcwidth in c:\\users\\degas\\documents\\github\\python_image_processing\\venv\\lib\\site-packages (from prompt-toolkit!=3.0.37,<3.1.0,>=3.0.30->ipython->-r yolov7/requirements.txt (line 34)) (0.2.6)\n",
      "Requirement already satisfied: MarkupSafe>=2.1.1 in c:\\users\\degas\\documents\\github\\python_image_processing\\venv\\lib\\site-packages (from werkzeug>=1.0.1->tensorboard>=2.4.1->-r yolov7/requirements.txt (line 17)) (2.1.2)\n",
      "Requirement already satisfied: executing>=1.2.0 in c:\\users\\degas\\documents\\github\\python_image_processing\\venv\\lib\\site-packages (from stack-data->ipython->-r yolov7/requirements.txt (line 34)) (1.2.0)\n",
      "Requirement already satisfied: asttokens>=2.1.0 in c:\\users\\degas\\documents\\github\\python_image_processing\\venv\\lib\\site-packages (from stack-data->ipython->-r yolov7/requirements.txt (line 34)) (2.2.1)\n",
      "Requirement already satisfied: pure-eval in c:\\users\\degas\\documents\\github\\python_image_processing\\venv\\lib\\site-packages (from stack-data->ipython->-r yolov7/requirements.txt (line 34)) (0.2.2)\n",
      "Requirement already satisfied: mpmath>=0.19 in c:\\users\\degas\\documents\\github\\python_image_processing\\venv\\lib\\site-packages (from sympy->torch!=1.12.0,>=1.7.0->-r yolov7/requirements.txt (line 11)) (1.3.0)\n",
      "Requirement already satisfied: pyasn1<0.6.0,>=0.4.6 in c:\\users\\degas\\documents\\github\\python_image_processing\\venv\\lib\\site-packages (from pyasn1-modules>=0.2.1->google-auth<3,>=1.6.3->tensorboard>=2.4.1->-r yolov7/requirements.txt (line 17)) (0.5.0)\n",
      "Requirement already satisfied: oauthlib>=3.0.0 in c:\\users\\degas\\documents\\github\\python_image_processing\\venv\\lib\\site-packages (from requests-oauthlib>=0.7.0->google-auth-oauthlib<1.1,>=0.5->tensorboard>=2.4.1->-r yolov7/requirements.txt (line 17)) (3.2.2)\n"
     ]
    }
   ],
   "source": [
    "# install needed project reauirements\n",
    "!pip install -r yolov7/requirements.txt"
   ]
  },
  {
   "cell_type": "code",
   "execution_count": 4,
   "id": "75106fea",
   "metadata": {},
   "outputs": [],
   "source": [
    "# get the image path we want to analyze\n",
    "source_path = Path().absolute().parent\n",
    "video_path = os.path.join(source_path, 'Data', 'Kite.mkv')"
   ]
  },
  {
   "cell_type": "code",
   "execution_count": 5,
   "id": "1d11d145",
   "metadata": {},
   "outputs": [
    {
     "data": {
      "text/plain": [
       "'C:\\\\Users\\\\degas\\\\Documents\\\\Github\\\\Python_Image_Processing\\\\Data\\\\Kite.mkv'"
      ]
     },
     "execution_count": 5,
     "metadata": {},
     "output_type": "execute_result"
    }
   ],
   "source": [
    "video_path"
   ]
  },
  {
   "cell_type": "code",
   "execution_count": 6,
   "id": "c5bafe95",
   "metadata": {},
   "outputs": [],
   "source": [
    "# set yolo repo as base dir\n",
    "os.chdir(\"./yolov7/\")"
   ]
  },
  {
   "attachments": {},
   "cell_type": "markdown",
   "id": "f5db7eb5",
   "metadata": {},
   "source": [
    "### Use yolov7 api to do object detection\n",
    "Input parameters:\n",
    "- weights: model weights\n",
    "- conf: object confidence threshold\n",
    "- image-size: inference size (pixels)\n",
    "- source: input image"
   ]
  },
  {
   "cell_type": "code",
   "execution_count": 7,
   "id": "d7b8e346",
   "metadata": {},
   "outputs": [],
   "source": [
    "# copy video_path as source video on which to perform object detection"
   ]
  },
  {
   "cell_type": "code",
   "execution_count": 8,
   "id": "3a0aed52",
   "metadata": {},
   "outputs": [
    {
     "name": "stdout",
     "output_type": "stream",
     "text": [
      "Namespace(weights=['yolov7.pt'], source='C:\\\\\\\\Users\\\\\\\\degas\\\\\\\\Documents\\\\\\\\Github\\\\\\\\Python_Image_Processing\\\\\\\\Data\\\\\\\\Kite.mkv', img_size=640, conf_thres=0.25, iou_thres=0.45, device='', view_img=False, save_txt=False, save_conf=False, nosave=False, classes=None, agnostic_nms=False, augment=False, update=False, project='runs/detect', name='exp', exist_ok=False, no_trace=False)\n",
      "Fusing layers... \n",
      "RepConv.fuse_repvgg_block\n",
      "RepConv.fuse_repvgg_block\n",
      "RepConv.fuse_repvgg_block\n",
      " Convert model to Traced-model... \n",
      " traced_script_module saved! \n",
      " model is traced! \n",
      "\n",
      "video 1/1 (1/138) C:\\Users\\degas\\Documents\\Github\\Python_Image_Processing\\Data\\Kite.mkv: 1 kite, Done. (920.8ms) Inference, (10.0ms) NMS\n",
      "video 1/1 (2/138) C:\\Users\\degas\\Documents\\Github\\Python_Image_Processing\\Data\\Kite.mkv: 1 kite, Done. (770.2ms) Inference, (1.0ms) NMS\n",
      "video 1/1 (3/138) C:\\Users\\degas\\Documents\\Github\\Python_Image_Processing\\Data\\Kite.mkv: 1 kite, Done. (799.8ms) Inference, (2.0ms) NMS\n",
      "video 1/1 (4/138) C:\\Users\\degas\\Documents\\Github\\Python_Image_Processing\\Data\\Kite.mkv: 1 person, 1 kite, Done. (782.5ms) Inference, (1.1ms) NMS\n",
      "video 1/1 (5/138) C:\\Users\\degas\\Documents\\Github\\Python_Image_Processing\\Data\\Kite.mkv: 1 person, 1 kite, Done. (771.7ms) Inference, (2.0ms) NMS\n",
      "video 1/1 (6/138) C:\\Users\\degas\\Documents\\Github\\Python_Image_Processing\\Data\\Kite.mkv: 1 kite, Done. (826.5ms) Inference, (2.0ms) NMS\n",
      "video 1/1 (7/138) C:\\Users\\degas\\Documents\\Github\\Python_Image_Processing\\Data\\Kite.mkv: 1 person, 1 kite, Done. (775.5ms) Inference, (1.0ms) NMS\n",
      "video 1/1 (8/138) C:\\Users\\degas\\Documents\\Github\\Python_Image_Processing\\Data\\Kite.mkv: 1 kite, Done. (945.2ms) Inference, (4.0ms) NMS\n",
      "video 1/1 (9/138) C:\\Users\\degas\\Documents\\Github\\Python_Image_Processing\\Data\\Kite.mkv: 1 kite, Done. (1725.2ms) Inference, (4.0ms) NMS\n",
      "video 1/1 (10/138) C:\\Users\\degas\\Documents\\Github\\Python_Image_Processing\\Data\\Kite.mkv: 1 kite, Done. (1717.1ms) Inference, (4.0ms) NMS\n",
      "video 1/1 (11/138) C:\\Users\\degas\\Documents\\Github\\Python_Image_Processing\\Data\\Kite.mkv: 1 kite, Done. (1727.3ms) Inference, (4.0ms) NMS\n",
      "video 1/1 (12/138) C:\\Users\\degas\\Documents\\Github\\Python_Image_Processing\\Data\\Kite.mkv: 1 kite, Done. (1620.2ms) Inference, (3.0ms) NMS\n",
      "video 1/1 (13/138) C:\\Users\\degas\\Documents\\Github\\Python_Image_Processing\\Data\\Kite.mkv: 1 kite, Done. (1655.1ms) Inference, (3.0ms) NMS\n",
      "video 1/1 (14/138) C:\\Users\\degas\\Documents\\Github\\Python_Image_Processing\\Data\\Kite.mkv: 1 kite, Done. (1694.9ms) Inference, (2.6ms) NMS\n",
      "video 1/1 (15/138) C:\\Users\\degas\\Documents\\Github\\Python_Image_Processing\\Data\\Kite.mkv: 1 kite, Done. (1564.5ms) Inference, (3.0ms) NMS\n",
      "video 1/1 (16/138) C:\\Users\\degas\\Documents\\Github\\Python_Image_Processing\\Data\\Kite.mkv: 1 kite, Done. (1654.0ms) Inference, (3.0ms) NMS\n",
      "video 1/1 (17/138) C:\\Users\\degas\\Documents\\Github\\Python_Image_Processing\\Data\\Kite.mkv: 1 kite, Done. (1698.4ms) Inference, (3.0ms) NMS\n",
      "video 1/1 (18/138) C:\\Users\\degas\\Documents\\Github\\Python_Image_Processing\\Data\\Kite.mkv: 1 kite, Done. (1404.2ms) Inference, (5.7ms) NMS\n",
      "video 1/1 (19/138) C:\\Users\\degas\\Documents\\Github\\Python_Image_Processing\\Data\\Kite.mkv: 1 kite, Done. (1402.0ms) Inference, (3.4ms) NMS\n",
      "video 1/1 (20/138) C:\\Users\\degas\\Documents\\Github\\Python_Image_Processing\\Data\\Kite.mkv: 1 kite, Done. (1408.3ms) Inference, (1.6ms) NMS\n",
      "video 1/1 (21/138) C:\\Users\\degas\\Documents\\Github\\Python_Image_Processing\\Data\\Kite.mkv: 1 kite, Done. (1683.7ms) Inference, (4.0ms) NMS\n",
      "video 1/1 (22/138) C:\\Users\\degas\\Documents\\Github\\Python_Image_Processing\\Data\\Kite.mkv: 1 kite, Done. (1714.3ms) Inference, (4.0ms) NMS\n",
      "video 1/1 (23/138) C:\\Users\\degas\\Documents\\Github\\Python_Image_Processing\\Data\\Kite.mkv: 1 kite, Done. (1621.8ms) Inference, (4.0ms) NMS\n",
      "video 1/1 (24/138) C:\\Users\\degas\\Documents\\Github\\Python_Image_Processing\\Data\\Kite.mkv: 1 kite, Done. (1611.3ms) Inference, (4.0ms) NMS\n",
      "video 1/1 (25/138) C:\\Users\\degas\\Documents\\Github\\Python_Image_Processing\\Data\\Kite.mkv: 1 bird, 1 kite, Done. (1615.8ms) Inference, (1.2ms) NMS\n",
      "video 1/1 (26/138) C:\\Users\\degas\\Documents\\Github\\Python_Image_Processing\\Data\\Kite.mkv: 1 bird, 1 kite, Done. (1476.0ms) Inference, (4.1ms) NMS\n",
      "video 1/1 (27/138) C:\\Users\\degas\\Documents\\Github\\Python_Image_Processing\\Data\\Kite.mkv: 1 bird, 1 kite, Done. (1475.0ms) Inference, (3.1ms) NMS\n",
      "video 1/1 (28/138) C:\\Users\\degas\\Documents\\Github\\Python_Image_Processing\\Data\\Kite.mkv: 1 kite, Done. (1587.9ms) Inference, (3.0ms) NMS\n",
      "video 1/1 (29/138) C:\\Users\\degas\\Documents\\Github\\Python_Image_Processing\\Data\\Kite.mkv: 1 kite, Done. (1243.0ms) Inference, (2.0ms) NMS\n",
      "video 1/1 (30/138) C:\\Users\\degas\\Documents\\Github\\Python_Image_Processing\\Data\\Kite.mkv: 1 bird, 1 kite, Done. (757.0ms) Inference, (1.0ms) NMS\n",
      "video 1/1 (31/138) C:\\Users\\degas\\Documents\\Github\\Python_Image_Processing\\Data\\Kite.mkv: 1 kite, Done. (767.8ms) Inference, (1.0ms) NMS\n",
      "video 1/1 (32/138) C:\\Users\\degas\\Documents\\Github\\Python_Image_Processing\\Data\\Kite.mkv: 1 kite, Done. (777.5ms) Inference, (1.0ms) NMS\n",
      "video 1/1 (33/138) C:\\Users\\degas\\Documents\\Github\\Python_Image_Processing\\Data\\Kite.mkv: 1 kite, Done. (768.1ms) Inference, (2.0ms) NMS\n",
      "video 1/1 (34/138) C:\\Users\\degas\\Documents\\Github\\Python_Image_Processing\\Data\\Kite.mkv: 1 kite, Done. (717.0ms) Inference, (2.0ms) NMS\n",
      "video 1/1 (35/138) C:\\Users\\degas\\Documents\\Github\\Python_Image_Processing\\Data\\Kite.mkv: 1 kite, Done. (738.6ms) Inference, (1.0ms) NMS\n",
      "video 1/1 (36/138) C:\\Users\\degas\\Documents\\Github\\Python_Image_Processing\\Data\\Kite.mkv: 1 kite, Done. (725.6ms) Inference, (1.0ms) NMS\n",
      "video 1/1 (37/138) C:\\Users\\degas\\Documents\\Github\\Python_Image_Processing\\Data\\Kite.mkv: 1 kite, Done. (738.7ms) Inference, (1.0ms) NMS\n",
      "video 1/1 (38/138) C:\\Users\\degas\\Documents\\Github\\Python_Image_Processing\\Data\\Kite.mkv: 2 kites, Done. (766.7ms) Inference, (2.0ms) NMS\n",
      "video 1/1 (39/138) C:\\Users\\degas\\Documents\\Github\\Python_Image_Processing\\Data\\Kite.mkv: 2 kites, Done. (736.2ms) Inference, (1.0ms) NMS\n",
      "video 1/1 (40/138) C:\\Users\\degas\\Documents\\Github\\Python_Image_Processing\\Data\\Kite.mkv: 1 kite, Done. (698.5ms) Inference, (1.0ms) NMS\n",
      "video 1/1 (41/138) C:\\Users\\degas\\Documents\\Github\\Python_Image_Processing\\Data\\Kite.mkv: 1 kite, Done. (723.9ms) Inference, (2.0ms) NMS\n",
      "video 1/1 (42/138) C:\\Users\\degas\\Documents\\Github\\Python_Image_Processing\\Data\\Kite.mkv: 1 kite, Done. (791.4ms) Inference, (1.0ms) NMS\n",
      "video 1/1 (43/138) C:\\Users\\degas\\Documents\\Github\\Python_Image_Processing\\Data\\Kite.mkv: 1 kite, Done. (745.4ms) Inference, (2.0ms) NMS\n",
      "video 1/1 (44/138) C:\\Users\\degas\\Documents\\Github\\Python_Image_Processing\\Data\\Kite.mkv: 1 kite, Done. (725.2ms) Inference, (2.0ms) NMS\n",
      "video 1/1 (45/138) C:\\Users\\degas\\Documents\\Github\\Python_Image_Processing\\Data\\Kite.mkv: 1 kite, Done. (713.6ms) Inference, (1.0ms) NMS\n",
      "video 1/1 (46/138) C:\\Users\\degas\\Documents\\Github\\Python_Image_Processing\\Data\\Kite.mkv: 1 kite, Done. (758.9ms) Inference, (2.0ms) NMS\n",
      "video 1/1 (47/138) C:\\Users\\degas\\Documents\\Github\\Python_Image_Processing\\Data\\Kite.mkv: 1 kite, Done. (733.8ms) Inference, (2.0ms) NMS\n",
      "video 1/1 (48/138) C:\\Users\\degas\\Documents\\Github\\Python_Image_Processing\\Data\\Kite.mkv: 1 kite, Done. (760.9ms) Inference, (1.0ms) NMS\n",
      "video 1/1 (49/138) C:\\Users\\degas\\Documents\\Github\\Python_Image_Processing\\Data\\Kite.mkv: 1 kite, Done. (737.3ms) Inference, (1.0ms) NMS\n",
      "video 1/1 (50/138) C:\\Users\\degas\\Documents\\Github\\Python_Image_Processing\\Data\\Kite.mkv: 1 kite, Done. (726.2ms) Inference, (2.0ms) NMS\n",
      "video 1/1 (51/138) C:\\Users\\degas\\Documents\\Github\\Python_Image_Processing\\Data\\Kite.mkv: 1 kite, Done. (760.7ms) Inference, (1.0ms) NMS\n",
      "video 1/1 (52/138) C:\\Users\\degas\\Documents\\Github\\Python_Image_Processing\\Data\\Kite.mkv: 1 kite, Done. (803.8ms) Inference, (2.1ms) NMS\n",
      "video 1/1 (53/138) C:\\Users\\degas\\Documents\\Github\\Python_Image_Processing\\Data\\Kite.mkv: 1 bird, 1 kite, Done. (770.7ms) Inference, (1.0ms) NMS\n",
      "video 1/1 (54/138) C:\\Users\\degas\\Documents\\Github\\Python_Image_Processing\\Data\\Kite.mkv: 1 person, 1 bird, 1 kite, Done. (771.2ms) Inference, (2.0ms) NMS\n",
      "video 1/1 (55/138) C:\\Users\\degas\\Documents\\Github\\Python_Image_Processing\\Data\\Kite.mkv: 1 bird, 1 kite, Done. (758.1ms) Inference, (2.1ms) NMS\n",
      "video 1/1 (56/138) C:\\Users\\degas\\Documents\\Github\\Python_Image_Processing\\Data\\Kite.mkv: 1 bird, 1 kite, Done. (754.8ms) Inference, (2.2ms) NMS\n",
      "video 1/1 (57/138) C:\\Users\\degas\\Documents\\Github\\Python_Image_Processing\\Data\\Kite.mkv: 1 person, 1 kite, Done. (761.7ms) Inference, (2.7ms) NMS\n",
      "video 1/1 (58/138) C:\\Users\\degas\\Documents\\Github\\Python_Image_Processing\\Data\\Kite.mkv: 1 person, 1 kite, Done. (796.3ms) Inference, (2.0ms) NMS\n",
      "video 1/1 (59/138) C:\\Users\\degas\\Documents\\Github\\Python_Image_Processing\\Data\\Kite.mkv: 1 person, 1 kite, Done. (748.1ms) Inference, (2.0ms) NMS\n",
      "video 1/1 (60/138) C:\\Users\\degas\\Documents\\Github\\Python_Image_Processing\\Data\\Kite.mkv: 1 person, 1 kite, Done. (725.0ms) Inference, (1.0ms) NMS\n",
      "video 1/1 (61/138) C:\\Users\\degas\\Documents\\Github\\Python_Image_Processing\\Data\\Kite.mkv: 1 kite, Done. (730.9ms) Inference, (1.0ms) NMS\n",
      "video 1/1 (62/138) C:\\Users\\degas\\Documents\\Github\\Python_Image_Processing\\Data\\Kite.mkv: 1 person, 1 bird, 1 kite, Done. (710.5ms) Inference, (2.0ms) NMS\n",
      "video 1/1 (63/138) C:\\Users\\degas\\Documents\\Github\\Python_Image_Processing\\Data\\Kite.mkv: 1 person, 1 kite, Done. (704.0ms) Inference, (1.0ms) NMS\n",
      "video 1/1 (64/138) C:\\Users\\degas\\Documents\\Github\\Python_Image_Processing\\Data\\Kite.mkv: 1 person, 1 kite, Done. (729.5ms) Inference, (2.1ms) NMS\n",
      "video 1/1 (65/138) C:\\Users\\degas\\Documents\\Github\\Python_Image_Processing\\Data\\Kite.mkv: 1 person, 1 kite, Done. (706.6ms) Inference, (1.0ms) NMS\n",
      "video 1/1 (66/138) C:\\Users\\degas\\Documents\\Github\\Python_Image_Processing\\Data\\Kite.mkv: 1 kite, Done. (680.6ms) Inference, (1.0ms) NMS\n",
      "video 1/1 (67/138) C:\\Users\\degas\\Documents\\Github\\Python_Image_Processing\\Data\\Kite.mkv: 1 person, 1 boat, 1 kite, Done. (711.9ms) Inference, (1.0ms) NMS\n",
      "video 1/1 (68/138) C:\\Users\\degas\\Documents\\Github\\Python_Image_Processing\\Data\\Kite.mkv: 1 person, 1 kite, Done. (702.1ms) Inference, (2.0ms) NMS\n",
      "video 1/1 (69/138) C:\\Users\\degas\\Documents\\Github\\Python_Image_Processing\\Data\\Kite.mkv: 1 person, 1 kite, Done. (719.6ms) Inference, (1.0ms) NMS\n",
      "video 1/1 (70/138) C:\\Users\\degas\\Documents\\Github\\Python_Image_Processing\\Data\\Kite.mkv: 1 person, 1 kite, Done. (734.1ms) Inference, (1.0ms) NMS\n",
      "video 1/1 (71/138) C:\\Users\\degas\\Documents\\Github\\Python_Image_Processing\\Data\\Kite.mkv: 1 person, 1 kite, Done. (717.1ms) Inference, (1.0ms) NMS\n",
      "video 1/1 (72/138) C:\\Users\\degas\\Documents\\Github\\Python_Image_Processing\\Data\\Kite.mkv: 1 person, 1 kite, Done. (717.0ms) Inference, (1.0ms) NMS\n",
      "video 1/1 (73/138) C:\\Users\\degas\\Documents\\Github\\Python_Image_Processing\\Data\\Kite.mkv: 1 person, 1 kite, Done. (727.0ms) Inference, (1.0ms) NMS\n",
      "video 1/1 (74/138) C:\\Users\\degas\\Documents\\Github\\Python_Image_Processing\\Data\\Kite.mkv: 1 person, 1 kite, Done. (713.4ms) Inference, (2.1ms) NMS\n",
      "video 1/1 (75/138) C:\\Users\\degas\\Documents\\Github\\Python_Image_Processing\\Data\\Kite.mkv: 1 person, 1 kite, Done. (720.3ms) Inference, (1.1ms) NMS\n",
      "video 1/1 (76/138) C:\\Users\\degas\\Documents\\Github\\Python_Image_Processing\\Data\\Kite.mkv: 1 person, 1 kite, Done. (708.6ms) Inference, (1.0ms) NMS\n",
      "video 1/1 (77/138) C:\\Users\\degas\\Documents\\Github\\Python_Image_Processing\\Data\\Kite.mkv: 1 person, 1 kite, Done. (729.5ms) Inference, (2.0ms) NMS\n",
      "video 1/1 (78/138) C:\\Users\\degas\\Documents\\Github\\Python_Image_Processing\\Data\\Kite.mkv: 1 person, 1 kite, Done. (694.4ms) Inference, (1.0ms) NMS\n",
      "video 1/1 (79/138) C:\\Users\\degas\\Documents\\Github\\Python_Image_Processing\\Data\\Kite.mkv: 1 person, 1 kite, Done. (724.8ms) Inference, (2.0ms) NMS\n",
      "video 1/1 (80/138) C:\\Users\\degas\\Documents\\Github\\Python_Image_Processing\\Data\\Kite.mkv: 1 person, 1 kite, Done. (701.0ms) Inference, (1.0ms) NMS\n",
      "video 1/1 (81/138) C:\\Users\\degas\\Documents\\Github\\Python_Image_Processing\\Data\\Kite.mkv: 1 kite, Done. (700.9ms) Inference, (0.9ms) NMS\n",
      "video 1/1 (82/138) C:\\Users\\degas\\Documents\\Github\\Python_Image_Processing\\Data\\Kite.mkv: 1 person, 1 kite, Done. (720.3ms) Inference, (2.0ms) NMS\n",
      "video 1/1 (83/138) C:\\Users\\degas\\Documents\\Github\\Python_Image_Processing\\Data\\Kite.mkv: 1 person, 1 kite, Done. (713.8ms) Inference, (1.0ms) NMS\n",
      "video 1/1 (84/138) C:\\Users\\degas\\Documents\\Github\\Python_Image_Processing\\Data\\Kite.mkv: 1 kite, Done. (728.6ms) Inference, (1.0ms) NMS\n",
      "video 1/1 (85/138) C:\\Users\\degas\\Documents\\Github\\Python_Image_Processing\\Data\\Kite.mkv: 1 person, 1 kite, Done. (732.9ms) Inference, (2.1ms) NMS\n",
      "video 1/1 (86/138) C:\\Users\\degas\\Documents\\Github\\Python_Image_Processing\\Data\\Kite.mkv: 1 kite, Done. (719.3ms) Inference, (2.0ms) NMS\n",
      "video 1/1 (87/138) C:\\Users\\degas\\Documents\\Github\\Python_Image_Processing\\Data\\Kite.mkv: 1 kite, Done. (730.2ms) Inference, (2.0ms) NMS\n",
      "video 1/1 (88/138) C:\\Users\\degas\\Documents\\Github\\Python_Image_Processing\\Data\\Kite.mkv: 1 kite, Done. (712.8ms) Inference, (2.0ms) NMS\n",
      "video 1/1 (89/138) C:\\Users\\degas\\Documents\\Github\\Python_Image_Processing\\Data\\Kite.mkv: 1 person, 1 kite, Done. (703.5ms) Inference, (2.0ms) NMS\n",
      "video 1/1 (90/138) C:\\Users\\degas\\Documents\\Github\\Python_Image_Processing\\Data\\Kite.mkv: 1 person, 1 kite, Done. (724.5ms) Inference, (1.0ms) NMS\n",
      "video 1/1 (91/138) C:\\Users\\degas\\Documents\\Github\\Python_Image_Processing\\Data\\Kite.mkv: 1 person, 1 kite, Done. (724.1ms) Inference, (2.0ms) NMS\n",
      "video 1/1 (92/138) C:\\Users\\degas\\Documents\\Github\\Python_Image_Processing\\Data\\Kite.mkv: 1 person, 1 kite, Done. (732.3ms) Inference, (2.1ms) NMS\n",
      "video 1/1 (93/138) C:\\Users\\degas\\Documents\\Github\\Python_Image_Processing\\Data\\Kite.mkv: 1 person, 1 kite, Done. (735.1ms) Inference, (1.0ms) NMS\n",
      "video 1/1 (94/138) C:\\Users\\degas\\Documents\\Github\\Python_Image_Processing\\Data\\Kite.mkv: 1 person, 1 kite, Done. (738.5ms) Inference, (1.0ms) NMS\n",
      "video 1/1 (95/138) C:\\Users\\degas\\Documents\\Github\\Python_Image_Processing\\Data\\Kite.mkv: 1 person, 1 kite, Done. (729.1ms) Inference, (1.1ms) NMS\n",
      "video 1/1 (96/138) C:\\Users\\degas\\Documents\\Github\\Python_Image_Processing\\Data\\Kite.mkv: 1 person, 1 kite, Done. (712.2ms) Inference, (2.1ms) NMS\n",
      "video 1/1 (97/138) C:\\Users\\degas\\Documents\\Github\\Python_Image_Processing\\Data\\Kite.mkv: 1 person, 1 kite, Done. (724.2ms) Inference, (1.9ms) NMS\n",
      "video 1/1 (98/138) C:\\Users\\degas\\Documents\\Github\\Python_Image_Processing\\Data\\Kite.mkv: 1 kite, Done. (700.8ms) Inference, (1.0ms) NMS\n",
      "video 1/1 (99/138) C:\\Users\\degas\\Documents\\Github\\Python_Image_Processing\\Data\\Kite.mkv: 1 person, 1 kite, Done. (710.8ms) Inference, (1.0ms) NMS\n",
      "video 1/1 (100/138) C:\\Users\\degas\\Documents\\Github\\Python_Image_Processing\\Data\\Kite.mkv: 1 kite, Done. (715.6ms) Inference, (2.0ms) NMS\n",
      "video 1/1 (101/138) C:\\Users\\degas\\Documents\\Github\\Python_Image_Processing\\Data\\Kite.mkv: 1 person, 1 kite, Done. (719.1ms) Inference, (2.0ms) NMS\n",
      "video 1/1 (102/138) C:\\Users\\degas\\Documents\\Github\\Python_Image_Processing\\Data\\Kite.mkv: 1 person, 1 kite, Done. (716.8ms) Inference, (2.0ms) NMS\n",
      "video 1/1 (103/138) C:\\Users\\degas\\Documents\\Github\\Python_Image_Processing\\Data\\Kite.mkv: 1 person, 1 kite, Done. (721.3ms) Inference, (0.9ms) NMS\n",
      "video 1/1 (104/138) C:\\Users\\degas\\Documents\\Github\\Python_Image_Processing\\Data\\Kite.mkv: 1 person, 1 kite, Done. (719.0ms) Inference, (1.0ms) NMS\n",
      "video 1/1 (105/138) C:\\Users\\degas\\Documents\\Github\\Python_Image_Processing\\Data\\Kite.mkv: 1 person, 1 kite, Done. (703.3ms) Inference, (2.0ms) NMS\n",
      "video 1/1 (106/138) C:\\Users\\degas\\Documents\\Github\\Python_Image_Processing\\Data\\Kite.mkv: 1 person, 1 kite, Done. (716.1ms) Inference, (1.6ms) NMS\n",
      "video 1/1 (107/138) C:\\Users\\degas\\Documents\\Github\\Python_Image_Processing\\Data\\Kite.mkv: 1 person, 1 kite, Done. (713.9ms) Inference, (1.0ms) NMS\n",
      "video 1/1 (108/138) C:\\Users\\degas\\Documents\\Github\\Python_Image_Processing\\Data\\Kite.mkv: 1 person, 1 kite, Done. (716.9ms) Inference, (1.1ms) NMS\n",
      "video 1/1 (109/138) C:\\Users\\degas\\Documents\\Github\\Python_Image_Processing\\Data\\Kite.mkv: 1 person, 1 kite, Done. (741.8ms) Inference, (1.0ms) NMS\n",
      "video 1/1 (110/138) C:\\Users\\degas\\Documents\\Github\\Python_Image_Processing\\Data\\Kite.mkv: 1 person, 1 kite, Done. (718.0ms) Inference, (0.9ms) NMS\n",
      "video 1/1 (111/138) C:\\Users\\degas\\Documents\\Github\\Python_Image_Processing\\Data\\Kite.mkv: 1 person, 1 kite, Done. (717.0ms) Inference, (1.5ms) NMS\n",
      "video 1/1 (112/138) C:\\Users\\degas\\Documents\\Github\\Python_Image_Processing\\Data\\Kite.mkv: 1 person, 1 kite, Done. (709.1ms) Inference, (2.0ms) NMS\n",
      "video 1/1 (113/138) C:\\Users\\degas\\Documents\\Github\\Python_Image_Processing\\Data\\Kite.mkv: 1 person, 1 kite, Done. (704.7ms) Inference, (1.0ms) NMS\n",
      "video 1/1 (114/138) C:\\Users\\degas\\Documents\\Github\\Python_Image_Processing\\Data\\Kite.mkv: 1 person, 1 kite, Done. (713.8ms) Inference, (2.0ms) NMS\n",
      "video 1/1 (115/138) C:\\Users\\degas\\Documents\\Github\\Python_Image_Processing\\Data\\Kite.mkv: 1 person, 1 kite, Done. (727.1ms) Inference, (2.0ms) NMS\n",
      "video 1/1 (116/138) C:\\Users\\degas\\Documents\\Github\\Python_Image_Processing\\Data\\Kite.mkv: 1 person, 1 kite, Done. (727.1ms) Inference, (2.1ms) NMS\n",
      "video 1/1 (117/138) C:\\Users\\degas\\Documents\\Github\\Python_Image_Processing\\Data\\Kite.mkv: 1 person, 1 kite, Done. (707.3ms) Inference, (1.0ms) NMS\n",
      "video 1/1 (118/138) C:\\Users\\degas\\Documents\\Github\\Python_Image_Processing\\Data\\Kite.mkv: 1 person, 1 kite, Done. (718.0ms) Inference, (2.1ms) NMS\n",
      "video 1/1 (119/138) C:\\Users\\degas\\Documents\\Github\\Python_Image_Processing\\Data\\Kite.mkv: 1 person, 1 kite, Done. (715.6ms) Inference, (1.0ms) NMS\n",
      "video 1/1 (120/138) C:\\Users\\degas\\Documents\\Github\\Python_Image_Processing\\Data\\Kite.mkv: 1 kite, Done. (728.0ms) Inference, (2.0ms) NMS\n",
      "video 1/1 (121/138) C:\\Users\\degas\\Documents\\Github\\Python_Image_Processing\\Data\\Kite.mkv: 1 person, 1 kite, Done. (696.2ms) Inference, (1.0ms) NMS\n",
      "video 1/1 (122/138) C:\\Users\\degas\\Documents\\Github\\Python_Image_Processing\\Data\\Kite.mkv: 1 person, 1 kite, Done. (705.6ms) Inference, (1.1ms) NMS\n",
      "video 1/1 (123/138) C:\\Users\\degas\\Documents\\Github\\Python_Image_Processing\\Data\\Kite.mkv: 1 person, 1 kite, Done. (733.7ms) Inference, (2.0ms) NMS\n",
      "video 1/1 (124/138) C:\\Users\\degas\\Documents\\Github\\Python_Image_Processing\\Data\\Kite.mkv: 1 kite, Done. (707.0ms) Inference, (2.0ms) NMS\n",
      "video 1/1 (125/138) C:\\Users\\degas\\Documents\\Github\\Python_Image_Processing\\Data\\Kite.mkv: 1 kite, Done. (720.2ms) Inference, (1.5ms) NMS\n",
      "video 1/1 (126/138) C:\\Users\\degas\\Documents\\Github\\Python_Image_Processing\\Data\\Kite.mkv: 1 kite, Done. (723.1ms) Inference, (1.1ms) NMS\n",
      "video 1/1 (127/138) C:\\Users\\degas\\Documents\\Github\\Python_Image_Processing\\Data\\Kite.mkv: 1 kite, Done. (712.7ms) Inference, (1.1ms) NMS\n",
      "video 1/1 (128/138) C:\\Users\\degas\\Documents\\Github\\Python_Image_Processing\\Data\\Kite.mkv: 1 kite, Done. (741.0ms) Inference, (2.0ms) NMS\n",
      "video 1/1 (129/138) C:\\Users\\degas\\Documents\\Github\\Python_Image_Processing\\Data\\Kite.mkv: 1 kite, Done. (690.3ms) Inference, (1.0ms) NMS\n",
      "video 1/1 (130/138) C:\\Users\\degas\\Documents\\Github\\Python_Image_Processing\\Data\\Kite.mkv: 1 kite, Done. (727.2ms) Inference, (1.0ms) NMS\n",
      "video 1/1 (131/138) C:\\Users\\degas\\Documents\\Github\\Python_Image_Processing\\Data\\Kite.mkv: 1 kite, Done. (711.2ms) Inference, (1.0ms) NMS\n",
      "video 1/1 (132/138) C:\\Users\\degas\\Documents\\Github\\Python_Image_Processing\\Data\\Kite.mkv: 1 person, 1 kite, Done. (708.3ms) Inference, (2.0ms) NMS\n",
      "video 1/1 (133/138) C:\\Users\\degas\\Documents\\Github\\Python_Image_Processing\\Data\\Kite.mkv: 1 kite, Done. (678.3ms) Inference, (2.0ms) NMS\n",
      "video 1/1 (134/138) C:\\Users\\degas\\Documents\\Github\\Python_Image_Processing\\Data\\Kite.mkv: 1 kite, Done. (726.0ms) Inference, (1.0ms) NMS\n",
      "video 1/1 (135/138) C:\\Users\\degas\\Documents\\Github\\Python_Image_Processing\\Data\\Kite.mkv: 1 kite, Done. (719.7ms) Inference, (2.0ms) NMS\n",
      "video 1/1 (136/138) C:\\Users\\degas\\Documents\\Github\\Python_Image_Processing\\Data\\Kite.mkv: 1 kite, Done. (710.2ms) Inference, (1.0ms) NMS\n",
      "Done. (131.044s)\n"
     ]
    },
    {
     "name": "stderr",
     "output_type": "stream",
     "text": [
      "YOLOR  v0.1-122-g3b41c2c torch 2.0.1+cpu CPU\n",
      "\n",
      "Model Summary: 306 layers, 36905341 parameters, 6652669 gradients\n",
      "C:\\Users\\degas\\Documents\\Github\\Python_Image_Processing\\venv\\lib\\site-packages\\torch\\functional.py:504: UserWarning: torch.meshgrid: in an upcoming release, it will be required to pass the indexing argument. (Triggered internally at ..\\aten\\src\\ATen\\native\\TensorShape.cpp:3484.)\n",
      "  return _VF.meshgrid(tensors, **kwargs)  # type: ignore[attr-defined]\n"
     ]
    }
   ],
   "source": [
    "!python detect.py --weights yolov7.pt --conf 0.25 --img-size 640 --source C:\\\\Users\\\\degas\\\\Documents\\\\Github\\\\Python_Image_Processing\\\\Data\\\\Kite.mkv"
   ]
  },
  {
   "cell_type": "code",
   "execution_count": 9,
   "id": "de119671",
   "metadata": {},
   "outputs": [],
   "source": [
    "# Results will be stored in the repo runs/detect/exp*/your_video name inside your yolov7 folder"
   ]
  },
  {
   "attachments": {},
   "cell_type": "markdown",
   "id": "b9868744",
   "metadata": {},
   "source": [
    "The model output will be a video with a bound-box around every identified object and their level of confidence"
   ]
  }
 ],
 "metadata": {
  "kernelspec": {
   "display_name": "Python 3 (ipykernel)",
   "language": "python",
   "name": "python3"
  },
  "language_info": {
   "codemirror_mode": {
    "name": "ipython",
    "version": 3
   },
   "file_extension": ".py",
   "mimetype": "text/x-python",
   "name": "python",
   "nbconvert_exporter": "python",
   "pygments_lexer": "ipython3",
   "version": "3.10.11"
  }
 },
 "nbformat": 4,
 "nbformat_minor": 5
}
