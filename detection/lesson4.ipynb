{
 "cells": [
  {
   "cell_type": "markdown",
   "id": "1d18a17c",
   "metadata": {},
   "source": [
    "# Learn how to use deep learning model yolov7 for object detection in videos"
   ]
  },
  {
   "cell_type": "markdown",
   "id": "ee6358c5",
   "metadata": {},
   "source": [
    "In this notebook we will easy how to quickly use a state of the art algorithm to do object detection on a short video\n",
    "- Link to the github project https://github.com/WongKinYiu/yolov7/tree/main/inference/images\n",
    "- Paper link https://arxiv.org/pdf/2207.02696.pdf"
   ]
  },
  {
   "cell_type": "code",
   "execution_count": 1,
   "id": "40f09cce",
   "metadata": {},
   "outputs": [],
   "source": [
    "import os\n",
    "from pathlib import Path"
   ]
  },
  {
   "cell_type": "code",
   "execution_count": 2,
   "id": "446ef4a4",
   "metadata": {},
   "outputs": [
    {
     "name": "stderr",
     "output_type": "stream",
     "text": [
      "fatal: destination path 'yolov7' already exists and is not an empty directory.\n"
     ]
    }
   ],
   "source": [
    "# clone git repo of the yolov7 project\n",
    "!git clone https://github.com/WongKinYiu/yolov7.git"
   ]
  },
  {
   "cell_type": "code",
   "execution_count": 3,
   "id": "a9901869",
   "metadata": {},
   "outputs": [
    {
     "name": "stdout",
     "output_type": "stream",
     "text": [
      "Requirement already satisfied: matplotlib>=3.2.2 in c:\\users\\degas\\appdata\\local\\programs\\python\\python310\\lib\\site-packages (from -r yolov7/requirements.txt (line 4)) (3.7.1)\n",
      "Collecting numpy<1.24.0,>=1.18.5\n",
      "  Using cached numpy-1.23.5-cp310-cp310-win_amd64.whl (14.6 MB)\n",
      "Requirement already satisfied: opencv-python>=4.1.1 in c:\\users\\degas\\appdata\\local\\programs\\python\\python310\\lib\\site-packages (from -r yolov7/requirements.txt (line 6)) (4.7.0.72)\n",
      "Requirement already satisfied: Pillow>=7.1.2 in c:\\users\\degas\\appdata\\local\\programs\\python\\python310\\lib\\site-packages (from -r yolov7/requirements.txt (line 7)) (9.5.0)\n",
      "Requirement already satisfied: PyYAML>=5.3.1 in c:\\users\\degas\\appdata\\local\\programs\\python\\python310\\lib\\site-packages (from -r yolov7/requirements.txt (line 8)) (6.0)\n",
      "Requirement already satisfied: requests>=2.23.0 in c:\\users\\degas\\appdata\\local\\programs\\python\\python310\\lib\\site-packages (from -r yolov7/requirements.txt (line 9)) (2.30.0)\n",
      "Collecting scipy>=1.4.1\n",
      "  Using cached scipy-1.10.1-cp310-cp310-win_amd64.whl (42.5 MB)\n",
      "Requirement already satisfied: torch!=1.12.0,>=1.7.0 in c:\\users\\degas\\appdata\\local\\programs\\python\\python310\\lib\\site-packages (from -r yolov7/requirements.txt (line 11)) (2.0.1)\n",
      "Requirement already satisfied: torchvision!=0.13.0,>=0.8.1 in c:\\users\\degas\\appdata\\local\\programs\\python\\python310\\lib\\site-packages (from -r yolov7/requirements.txt (line 12)) (0.15.2)\n",
      "Requirement already satisfied: tqdm>=4.41.0 in c:\\users\\degas\\appdata\\local\\programs\\python\\python310\\lib\\site-packages (from -r yolov7/requirements.txt (line 13)) (4.65.0)\n",
      "Collecting protobuf<4.21.3\n",
      "  Using cached protobuf-4.21.2-cp310-abi3-win_amd64.whl (524 kB)\n",
      "Collecting tensorboard>=2.4.1\n",
      "  Using cached tensorboard-2.13.0-py3-none-any.whl (5.6 MB)\n",
      "Requirement already satisfied: pandas>=1.1.4 in c:\\users\\degas\\appdata\\local\\programs\\python\\python310\\lib\\site-packages (from -r yolov7/requirements.txt (line 21)) (2.0.1)\n",
      "Collecting seaborn>=0.11.0\n",
      "  Using cached seaborn-0.12.2-py3-none-any.whl (293 kB)\n",
      "Requirement already satisfied: ipython in c:\\users\\degas\\appdata\\local\\programs\\python\\python310\\lib\\site-packages (from -r yolov7/requirements.txt (line 34)) (8.13.2)\n",
      "Requirement already satisfied: psutil in c:\\users\\degas\\appdata\\local\\programs\\python\\python310\\lib\\site-packages (from -r yolov7/requirements.txt (line 35)) (5.9.5)\n",
      "Collecting thop\n",
      "  Using cached thop-0.1.1.post2209072238-py3-none-any.whl (15 kB)\n",
      "Requirement already satisfied: fonttools>=4.22.0 in c:\\users\\degas\\appdata\\local\\programs\\python\\python310\\lib\\site-packages (from matplotlib>=3.2.2->-r yolov7/requirements.txt (line 4)) (4.39.4)\n",
      "Requirement already satisfied: pyparsing>=2.3.1 in c:\\users\\degas\\appdata\\local\\programs\\python\\python310\\lib\\site-packages (from matplotlib>=3.2.2->-r yolov7/requirements.txt (line 4)) (3.0.9)\n",
      "Requirement already satisfied: kiwisolver>=1.0.1 in c:\\users\\degas\\appdata\\local\\programs\\python\\python310\\lib\\site-packages (from matplotlib>=3.2.2->-r yolov7/requirements.txt (line 4)) (1.4.4)\n",
      "Requirement already satisfied: cycler>=0.10 in c:\\users\\degas\\appdata\\local\\programs\\python\\python310\\lib\\site-packages (from matplotlib>=3.2.2->-r yolov7/requirements.txt (line 4)) (0.11.0)\n",
      "Requirement already satisfied: contourpy>=1.0.1 in c:\\users\\degas\\appdata\\local\\programs\\python\\python310\\lib\\site-packages (from matplotlib>=3.2.2->-r yolov7/requirements.txt (line 4)) (1.0.7)\n",
      "Requirement already satisfied: packaging>=20.0 in c:\\users\\degas\\appdata\\local\\programs\\python\\python310\\lib\\site-packages (from matplotlib>=3.2.2->-r yolov7/requirements.txt (line 4)) (23.1)\n",
      "Requirement already satisfied: python-dateutil>=2.7 in c:\\users\\degas\\appdata\\local\\programs\\python\\python310\\lib\\site-packages (from matplotlib>=3.2.2->-r yolov7/requirements.txt (line 4)) (2.8.2)\n",
      "Requirement already satisfied: idna<4,>=2.5 in c:\\users\\degas\\appdata\\local\\programs\\python\\python310\\lib\\site-packages (from requests>=2.23.0->-r yolov7/requirements.txt (line 9)) (3.4)\n",
      "Requirement already satisfied: certifi>=2017.4.17 in c:\\users\\degas\\appdata\\local\\programs\\python\\python310\\lib\\site-packages (from requests>=2.23.0->-r yolov7/requirements.txt (line 9)) (2023.5.7)\n",
      "Requirement already satisfied: urllib3<3,>=1.21.1 in c:\\users\\degas\\appdata\\local\\programs\\python\\python310\\lib\\site-packages (from requests>=2.23.0->-r yolov7/requirements.txt (line 9)) (2.0.2)\n",
      "Requirement already satisfied: charset-normalizer<4,>=2 in c:\\users\\degas\\appdata\\local\\programs\\python\\python310\\lib\\site-packages (from requests>=2.23.0->-r yolov7/requirements.txt (line 9)) (3.1.0)\n",
      "Requirement already satisfied: networkx in c:\\users\\degas\\appdata\\local\\programs\\python\\python310\\lib\\site-packages (from torch!=1.12.0,>=1.7.0->-r yolov7/requirements.txt (line 11)) (3.1)\n",
      "Requirement already satisfied: typing-extensions in c:\\users\\degas\\appdata\\local\\programs\\python\\python310\\lib\\site-packages (from torch!=1.12.0,>=1.7.0->-r yolov7/requirements.txt (line 11)) (4.5.0)\n",
      "Requirement already satisfied: sympy in c:\\users\\degas\\appdata\\local\\programs\\python\\python310\\lib\\site-packages (from torch!=1.12.0,>=1.7.0->-r yolov7/requirements.txt (line 11)) (1.11.1)\n",
      "Requirement already satisfied: jinja2 in c:\\users\\degas\\appdata\\local\\programs\\python\\python310\\lib\\site-packages (from torch!=1.12.0,>=1.7.0->-r yolov7/requirements.txt (line 11)) (3.1.2)\n",
      "Requirement already satisfied: filelock in c:\\users\\degas\\appdata\\local\\programs\\python\\python310\\lib\\site-packages (from torch!=1.12.0,>=1.7.0->-r yolov7/requirements.txt (line 11)) (3.12.0)\n",
      "Requirement already satisfied: colorama in c:\\users\\degas\\appdata\\local\\programs\\python\\python310\\lib\\site-packages (from tqdm>=4.41.0->-r yolov7/requirements.txt (line 13)) (0.4.6)\n",
      "Collecting werkzeug>=1.0.1\n",
      "  Downloading Werkzeug-2.3.6-py3-none-any.whl (242 kB)\n",
      "     ---------------------------------------- 0.0/242.5 kB ? eta -:--:--\n",
      "     ------ ------------------------------ 41.0/242.5 kB 991.0 kB/s eta 0:00:01\n",
      "     --------------- -------------------- 102.4/242.5 kB 991.0 kB/s eta 0:00:01\n",
      "     -------------------------------------- 242.5/242.5 kB 1.7 MB/s eta 0:00:00\n",
      "Collecting markdown>=2.6.8\n",
      "  Using cached Markdown-3.4.3-py3-none-any.whl (93 kB)\n",
      "Requirement already satisfied: setuptools>=41.0.0 in c:\\users\\degas\\appdata\\local\\programs\\python\\python310\\lib\\site-packages (from tensorboard>=2.4.1->-r yolov7/requirements.txt (line 17)) (65.5.0)\n",
      "Collecting tensorboard-data-server<0.8.0,>=0.7.0\n",
      "  Using cached tensorboard_data_server-0.7.0-py3-none-any.whl (2.4 kB)\n",
      "Collecting wheel>=0.26\n",
      "  Using cached wheel-0.40.0-py3-none-any.whl (64 kB)\n",
      "Collecting google-auth-oauthlib<1.1,>=0.5\n",
      "  Using cached google_auth_oauthlib-1.0.0-py2.py3-none-any.whl (18 kB)\n",
      "Collecting absl-py>=0.4\n",
      "  Using cached absl_py-1.4.0-py3-none-any.whl (126 kB)\n",
      "Collecting grpcio>=1.48.2\n",
      "  Using cached grpcio-1.54.2-cp310-cp310-win_amd64.whl (4.1 MB)\n",
      "Collecting google-auth<3,>=1.6.3\n",
      "  Downloading google_auth-2.19.1-py2.py3-none-any.whl (181 kB)\n",
      "     ---------------------------------------- 0.0/181.3 kB ? eta -:--:--\n",
      "     ------------------------------------- 181.3/181.3 kB 11.4 MB/s eta 0:00:00\n",
      "Requirement already satisfied: tzdata>=2022.1 in c:\\users\\degas\\appdata\\local\\programs\\python\\python310\\lib\\site-packages (from pandas>=1.1.4->-r yolov7/requirements.txt (line 21)) (2023.3)\n",
      "Requirement already satisfied: pytz>=2020.1 in c:\\users\\degas\\appdata\\local\\programs\\python\\python310\\lib\\site-packages (from pandas>=1.1.4->-r yolov7/requirements.txt (line 21)) (2023.3)\n",
      "Requirement already satisfied: traitlets>=5 in c:\\users\\degas\\appdata\\local\\programs\\python\\python310\\lib\\site-packages (from ipython->-r yolov7/requirements.txt (line 34)) (5.9.0)\n",
      "Requirement already satisfied: jedi>=0.16 in c:\\users\\degas\\appdata\\local\\programs\\python\\python310\\lib\\site-packages (from ipython->-r yolov7/requirements.txt (line 34)) (0.18.2)\n",
      "Requirement already satisfied: backcall in c:\\users\\degas\\appdata\\local\\programs\\python\\python310\\lib\\site-packages (from ipython->-r yolov7/requirements.txt (line 34)) (0.2.0)\n",
      "Requirement already satisfied: pygments>=2.4.0 in c:\\users\\degas\\appdata\\local\\programs\\python\\python310\\lib\\site-packages (from ipython->-r yolov7/requirements.txt (line 34)) (2.15.1)\n",
      "Requirement already satisfied: stack-data in c:\\users\\degas\\appdata\\local\\programs\\python\\python310\\lib\\site-packages (from ipython->-r yolov7/requirements.txt (line 34)) (0.6.2)\n",
      "Requirement already satisfied: decorator in c:\\users\\degas\\appdata\\local\\programs\\python\\python310\\lib\\site-packages (from ipython->-r yolov7/requirements.txt (line 34)) (5.1.1)\n",
      "Requirement already satisfied: prompt-toolkit!=3.0.37,<3.1.0,>=3.0.30 in c:\\users\\degas\\appdata\\local\\programs\\python\\python310\\lib\\site-packages (from ipython->-r yolov7/requirements.txt (line 34)) (3.0.38)\n",
      "Requirement already satisfied: matplotlib-inline in c:\\users\\degas\\appdata\\local\\programs\\python\\python310\\lib\\site-packages (from ipython->-r yolov7/requirements.txt (line 34)) (0.1.6)\n",
      "Requirement already satisfied: pickleshare in c:\\users\\degas\\appdata\\local\\programs\\python\\python310\\lib\\site-packages (from ipython->-r yolov7/requirements.txt (line 34)) (0.7.5)\n",
      "Collecting cachetools<6.0,>=2.0.0\n",
      "  Downloading cachetools-5.3.1-py3-none-any.whl (9.3 kB)\n",
      "Collecting urllib3<3,>=1.21.1\n",
      "  Downloading urllib3-1.26.16-py2.py3-none-any.whl (143 kB)\n",
      "     ---------------------------------------- 0.0/143.1 kB ? eta -:--:--\n",
      "     -------------------------------------- 143.1/143.1 kB 8.3 MB/s eta 0:00:00\n",
      "Collecting pyasn1-modules>=0.2.1\n",
      "  Using cached pyasn1_modules-0.3.0-py2.py3-none-any.whl (181 kB)\n",
      "Requirement already satisfied: six>=1.9.0 in c:\\users\\degas\\appdata\\local\\programs\\python\\python310\\lib\\site-packages (from google-auth<3,>=1.6.3->tensorboard>=2.4.1->-r yolov7/requirements.txt (line 17)) (1.16.0)\n",
      "Collecting rsa<5,>=3.1.4\n",
      "  Using cached rsa-4.9-py3-none-any.whl (34 kB)\n",
      "Collecting requests-oauthlib>=0.7.0\n",
      "  Using cached requests_oauthlib-1.3.1-py2.py3-none-any.whl (23 kB)\n",
      "Requirement already satisfied: parso<0.9.0,>=0.8.0 in c:\\users\\degas\\appdata\\local\\programs\\python\\python310\\lib\\site-packages (from jedi>=0.16->ipython->-r yolov7/requirements.txt (line 34)) (0.8.3)\n",
      "Requirement already satisfied: wcwidth in c:\\users\\degas\\appdata\\local\\programs\\python\\python310\\lib\\site-packages (from prompt-toolkit!=3.0.37,<3.1.0,>=3.0.30->ipython->-r yolov7/requirements.txt (line 34)) (0.2.6)\n",
      "Requirement already satisfied: MarkupSafe>=2.1.1 in c:\\users\\degas\\appdata\\local\\programs\\python\\python310\\lib\\site-packages (from werkzeug>=1.0.1->tensorboard>=2.4.1->-r yolov7/requirements.txt (line 17)) (2.1.2)\n",
      "Requirement already satisfied: executing>=1.2.0 in c:\\users\\degas\\appdata\\local\\programs\\python\\python310\\lib\\site-packages (from stack-data->ipython->-r yolov7/requirements.txt (line 34)) (1.2.0)\n",
      "Requirement already satisfied: pure-eval in c:\\users\\degas\\appdata\\local\\programs\\python\\python310\\lib\\site-packages (from stack-data->ipython->-r yolov7/requirements.txt (line 34)) (0.2.2)\n",
      "Requirement already satisfied: asttokens>=2.1.0 in c:\\users\\degas\\appdata\\local\\programs\\python\\python310\\lib\\site-packages (from stack-data->ipython->-r yolov7/requirements.txt (line 34)) (2.2.1)\n",
      "Requirement already satisfied: mpmath>=0.19 in c:\\users\\degas\\appdata\\local\\programs\\python\\python310\\lib\\site-packages (from sympy->torch!=1.12.0,>=1.7.0->-r yolov7/requirements.txt (line 11)) (1.3.0)\n",
      "Collecting pyasn1<0.6.0,>=0.4.6\n",
      "  Using cached pyasn1-0.5.0-py2.py3-none-any.whl (83 kB)\n",
      "Collecting oauthlib>=3.0.0\n",
      "  Using cached oauthlib-3.2.2-py3-none-any.whl (151 kB)\n",
      "Installing collected packages: wheel, werkzeug, urllib3, tensorboard-data-server, pyasn1, protobuf, oauthlib, numpy, markdown, grpcio, cachetools, absl-py, scipy, rsa, pyasn1-modules, thop, requests-oauthlib, google-auth, seaborn, google-auth-oauthlib, tensorboard\n",
      "  Attempting uninstall: urllib3\n",
      "    Found existing installation: urllib3 2.0.2\n",
      "    Uninstalling urllib3-2.0.2:\n",
      "      Successfully uninstalled urllib3-2.0.2\n",
      "  Attempting uninstall: numpy\n",
      "    Found existing installation: numpy 1.24.3\n",
      "    Uninstalling numpy-1.24.3:\n",
      "      Successfully uninstalled numpy-1.24.3\n",
      "Successfully installed absl-py-1.4.0 cachetools-5.3.1 google-auth-2.19.1 google-auth-oauthlib-1.0.0 grpcio-1.54.2 markdown-3.4.3 numpy-1.23.5 oauthlib-3.2.2 protobuf-4.21.2 pyasn1-0.5.0 pyasn1-modules-0.3.0 requests-oauthlib-1.3.1 rsa-4.9 scipy-1.10.1 seaborn-0.12.2 tensorboard-2.13.0 tensorboard-data-server-0.7.0 thop-0.1.1.post2209072238 urllib3-1.26.16 werkzeug-2.3.6 wheel-0.40.0\n"
     ]
    },
    {
     "name": "stderr",
     "output_type": "stream",
     "text": [
      "\n",
      "[notice] A new release of pip is available: 23.0.1 -> 23.1.2\n",
      "[notice] To update, run: python.exe -m pip install --upgrade pip\n"
     ]
    }
   ],
   "source": [
    "# install needed project reauirements\n",
    "!pip install -r yolov7/requirements.txt"
   ]
  },
  {
   "cell_type": "code",
   "execution_count": 4,
   "id": "75106fea",
   "metadata": {},
   "outputs": [],
   "source": [
    "# get the image path we want to analyze\n",
    "source_path = Path().absolute().parent\n",
    "video_path = os.path.join(source_path, 'Data', 'test_video.mp4')"
   ]
  },
  {
   "cell_type": "code",
   "execution_count": 5,
   "id": "1d11d145",
   "metadata": {},
   "outputs": [
    {
     "data": {
      "text/plain": [
       "'C:\\\\Users\\\\degas\\\\Documents\\\\Github\\\\Python_Image_Processing\\\\Data\\\\test_video.mp4'"
      ]
     },
     "execution_count": 5,
     "metadata": {},
     "output_type": "execute_result"
    }
   ],
   "source": [
    "video_path"
   ]
  },
  {
   "cell_type": "code",
   "execution_count": 6,
   "id": "c5bafe95",
   "metadata": {},
   "outputs": [],
   "source": [
    "# set yolo repo as base dir\n",
    "os.chdir(\"./yolov7/\")"
   ]
  },
  {
   "cell_type": "markdown",
   "id": "f5db7eb5",
   "metadata": {},
   "source": [
    "### Use yolov7 api to do object detection\n",
    "Input parameters:\n",
    "- weights: model weights\n",
    "- conf: object confidence threshold\n",
    "- image-size: inference size (pixels)\n",
    "- source: input image"
   ]
  },
  {
   "cell_type": "code",
   "execution_count": 7,
   "id": "d7b8e346",
   "metadata": {},
   "outputs": [],
   "source": [
    "# copy video_path as source video on which to perform object detection"
   ]
  },
  {
   "cell_type": "code",
   "execution_count": 8,
   "id": "3a0aed52",
   "metadata": {},
   "outputs": [
    {
     "name": "stdout",
     "output_type": "stream",
     "text": [
      "Namespace(weights=['yolov7.pt'], source='C:\\\\\\\\Users\\\\\\\\degas\\\\\\\\Documents\\\\\\\\Github\\\\\\\\Python_Image_Processing\\\\\\\\Data\\\\\\\\test_video.mp4', img_size=640, conf_thres=0.25, iou_thres=0.45, device='', view_img=False, save_txt=False, save_conf=False, nosave=False, classes=None, agnostic_nms=False, augment=False, update=False, project='runs/detect', name='exp', exist_ok=False, no_trace=False)\n",
      "Fusing layers... \n",
      "RepConv.fuse_repvgg_block\n",
      "RepConv.fuse_repvgg_block\n",
      "RepConv.fuse_repvgg_block\n",
      " Convert model to Traced-model... \n",
      " traced_script_module saved! \n",
      " model is traced! \n",
      "\n",
      "video 1/1 (1/89) C:\\Users\\degas\\Documents\\Github\\Python_Image_Processing\\Data\\test_video.mp4: 1 person, 3 kites, Done. (1822.6ms) Inference, (14.0ms) NMS\n",
      "video 1/1 (2/89) C:\\Users\\degas\\Documents\\Github\\Python_Image_Processing\\Data\\test_video.mp4: 3 kites, Done. (1630.5ms) Inference, (4.1ms) NMS\n",
      "video 1/1 (3/89) C:\\Users\\degas\\Documents\\Github\\Python_Image_Processing\\Data\\test_video.mp4: 1 person, 2 kites, Done. (1686.7ms) Inference, (4.1ms) NMS\n",
      "video 1/1 (4/89) C:\\Users\\degas\\Documents\\Github\\Python_Image_Processing\\Data\\test_video.mp4: 1 person, 1 kite, Done. (1621.0ms) Inference, (3.6ms) NMS\n",
      "video 1/1 (5/89) C:\\Users\\degas\\Documents\\Github\\Python_Image_Processing\\Data\\test_video.mp4: 1 person, 2 kites, Done. (1484.4ms) Inference, (3.2ms) NMS\n",
      "video 1/1 (6/89) C:\\Users\\degas\\Documents\\Github\\Python_Image_Processing\\Data\\test_video.mp4: 1 person, 2 kites, Done. (1640.4ms) Inference, (3.0ms) NMS\n",
      "video 1/1 (7/89) C:\\Users\\degas\\Documents\\Github\\Python_Image_Processing\\Data\\test_video.mp4: 1 person, 3 kites, Done. (1546.8ms) Inference, (3.0ms) NMS\n",
      "video 1/1 (8/89) C:\\Users\\degas\\Documents\\Github\\Python_Image_Processing\\Data\\test_video.mp4: 1 person, 1 kite, Done. (1474.3ms) Inference, (3.0ms) NMS\n",
      "video 1/1 (9/89) C:\\Users\\degas\\Documents\\Github\\Python_Image_Processing\\Data\\test_video.mp4: 1 person, 2 kites, Done. (1423.1ms) Inference, (3.4ms) NMS\n",
      "video 1/1 (10/89) C:\\Users\\degas\\Documents\\Github\\Python_Image_Processing\\Data\\test_video.mp4: 2 kites, Done. (1650.9ms) Inference, (4.5ms) NMS\n",
      "video 1/1 (11/89) C:\\Users\\degas\\Documents\\Github\\Python_Image_Processing\\Data\\test_video.mp4: 1 person, 2 kites, Done. (1213.1ms) Inference, (4.0ms) NMS\n",
      "video 1/1 (12/89) C:\\Users\\degas\\Documents\\Github\\Python_Image_Processing\\Data\\test_video.mp4: 1 person, 2 kites, Done. (1661.1ms) Inference, (4.1ms) NMS\n",
      "video 1/1 (13/89) C:\\Users\\degas\\Documents\\Github\\Python_Image_Processing\\Data\\test_video.mp4: 1 person, 1 cow, 2 kites, Done. (1622.1ms) Inference, (3.0ms) NMS\n",
      "video 1/1 (14/89) C:\\Users\\degas\\Documents\\Github\\Python_Image_Processing\\Data\\test_video.mp4: 1 person, 2 kites, Done. (1540.6ms) Inference, (1.9ms) NMS\n",
      "video 1/1 (15/89) C:\\Users\\degas\\Documents\\Github\\Python_Image_Processing\\Data\\test_video.mp4: 1 person, 1 kite, Done. (1317.2ms) Inference, (4.4ms) NMS\n",
      "video 1/1 (16/89) C:\\Users\\degas\\Documents\\Github\\Python_Image_Processing\\Data\\test_video.mp4: 1 person, 1 kite, Done. (1602.1ms) Inference, (3.0ms) NMS\n",
      "video 1/1 (17/89) C:\\Users\\degas\\Documents\\Github\\Python_Image_Processing\\Data\\test_video.mp4: 1 person, 1 kite, Done. (1660.9ms) Inference, (2.0ms) NMS\n",
      "video 1/1 (18/89) C:\\Users\\degas\\Documents\\Github\\Python_Image_Processing\\Data\\test_video.mp4: 1 person, 2 kites, Done. (1555.6ms) Inference, (2.2ms) NMS\n",
      "video 1/1 (19/89) C:\\Users\\degas\\Documents\\Github\\Python_Image_Processing\\Data\\test_video.mp4: 1 person, 3 kites, Done. (1677.9ms) Inference, (3.1ms) NMS\n",
      "video 1/1 (20/89) C:\\Users\\degas\\Documents\\Github\\Python_Image_Processing\\Data\\test_video.mp4: 1 person, 3 kites, Done. (1278.4ms) Inference, (2.0ms) NMS\n",
      "video 1/1 (21/89) C:\\Users\\degas\\Documents\\Github\\Python_Image_Processing\\Data\\test_video.mp4: 1 person, 2 kites, Done. (1620.9ms) Inference, (4.0ms) NMS\n",
      "video 1/1 (22/89) C:\\Users\\degas\\Documents\\Github\\Python_Image_Processing\\Data\\test_video.mp4: 1 person, 2 kites, Done. (1649.6ms) Inference, (4.0ms) NMS\n",
      "video 1/1 (23/89) C:\\Users\\degas\\Documents\\Github\\Python_Image_Processing\\Data\\test_video.mp4: 1 person, 2 kites, Done. (1686.9ms) Inference, (4.0ms) NMS\n",
      "video 1/1 (24/89) C:\\Users\\degas\\Documents\\Github\\Python_Image_Processing\\Data\\test_video.mp4: 1 person, 1 kite, Done. (1565.5ms) Inference, (3.0ms) NMS\n",
      "video 1/1 (25/89) C:\\Users\\degas\\Documents\\Github\\Python_Image_Processing\\Data\\test_video.mp4: 1 person, 2 kites, Done. (1657.8ms) Inference, (2.4ms) NMS\n",
      "video 1/1 (26/89) C:\\Users\\degas\\Documents\\Github\\Python_Image_Processing\\Data\\test_video.mp4: 1 person, 1 kite, Done. (1693.7ms) Inference, (2.0ms) NMS\n",
      "video 1/1 (27/89) C:\\Users\\degas\\Documents\\Github\\Python_Image_Processing\\Data\\test_video.mp4: 1 person, 1 kite, Done. (1475.7ms) Inference, (4.0ms) NMS\n",
      "video 1/1 (28/89) C:\\Users\\degas\\Documents\\Github\\Python_Image_Processing\\Data\\test_video.mp4: 1 person, 1 kite, Done. (1676.1ms) Inference, (2.0ms) NMS\n",
      "video 1/1 (29/89) C:\\Users\\degas\\Documents\\Github\\Python_Image_Processing\\Data\\test_video.mp4: 1 person, 2 kites, Done. (1701.8ms) Inference, (4.0ms) NMS\n",
      "video 1/1 (30/89) C:\\Users\\degas\\Documents\\Github\\Python_Image_Processing\\Data\\test_video.mp4: 1 person, 2 kites, Done. (1687.1ms) Inference, (3.0ms) NMS\n",
      "video 1/1 (31/89) C:\\Users\\degas\\Documents\\Github\\Python_Image_Processing\\Data\\test_video.mp4: 1 person, 2 kites, Done. (1680.3ms) Inference, (2.9ms) NMS\n",
      "video 1/1 (32/89) C:\\Users\\degas\\Documents\\Github\\Python_Image_Processing\\Data\\test_video.mp4: 1 person, 2 kites, Done. (1676.0ms) Inference, (3.0ms) NMS\n",
      "video 1/1 (33/89) C:\\Users\\degas\\Documents\\Github\\Python_Image_Processing\\Data\\test_video.mp4: 1 person, 1 kite, Done. (1668.7ms) Inference, (4.0ms) NMS\n",
      "video 1/1 (34/89) C:\\Users\\degas\\Documents\\Github\\Python_Image_Processing\\Data\\test_video.mp4: 1 person, 1 kite, Done. (1641.1ms) Inference, (4.0ms) NMS\n",
      "video 1/1 (35/89) C:\\Users\\degas\\Documents\\Github\\Python_Image_Processing\\Data\\test_video.mp4: 1 person, 1 kite, Done. (1456.7ms) Inference, (3.0ms) NMS\n",
      "video 1/1 (36/89) C:\\Users\\degas\\Documents\\Github\\Python_Image_Processing\\Data\\test_video.mp4: 1 person, 2 kites, Done. (1691.0ms) Inference, (3.0ms) NMS\n",
      "video 1/1 (37/89) C:\\Users\\degas\\Documents\\Github\\Python_Image_Processing\\Data\\test_video.mp4: 1 person, 2 kites, Done. (1695.4ms) Inference, (3.1ms) NMS\n",
      "video 1/1 (38/89) C:\\Users\\degas\\Documents\\Github\\Python_Image_Processing\\Data\\test_video.mp4: 1 person, 2 kites, Done. (1717.6ms) Inference, (4.0ms) NMS\n",
      "video 1/1 (39/89) C:\\Users\\degas\\Documents\\Github\\Python_Image_Processing\\Data\\test_video.mp4: 1 person, 2 kites, Done. (1654.9ms) Inference, (3.0ms) NMS\n",
      "video 1/1 (40/89) C:\\Users\\degas\\Documents\\Github\\Python_Image_Processing\\Data\\test_video.mp4: 1 person, 2 kites, Done. (1690.9ms) Inference, (3.1ms) NMS\n",
      "video 1/1 (41/89) C:\\Users\\degas\\Documents\\Github\\Python_Image_Processing\\Data\\test_video.mp4: 1 person, 2 kites, Done. (1701.8ms) Inference, (3.0ms) NMS\n",
      "video 1/1 (42/89) C:\\Users\\degas\\Documents\\Github\\Python_Image_Processing\\Data\\test_video.mp4: 1 person, 2 kites, Done. (1712.0ms) Inference, (2.1ms) NMS\n",
      "video 1/1 (43/89) C:\\Users\\degas\\Documents\\Github\\Python_Image_Processing\\Data\\test_video.mp4: 2 persons, 1 kite, Done. (1692.1ms) Inference, (3.0ms) NMS\n",
      "video 1/1 (44/89) C:\\Users\\degas\\Documents\\Github\\Python_Image_Processing\\Data\\test_video.mp4: 1 person, 2 kites, Done. (1685.6ms) Inference, (2.0ms) NMS\n",
      "video 1/1 (45/89) C:\\Users\\degas\\Documents\\Github\\Python_Image_Processing\\Data\\test_video.mp4: 1 person, 2 kites, Done. (1697.7ms) Inference, (2.1ms) NMS\n",
      "video 1/1 (46/89) C:\\Users\\degas\\Documents\\Github\\Python_Image_Processing\\Data\\test_video.mp4: 1 person, 2 kites, Done. (1709.9ms) Inference, (3.0ms) NMS\n",
      "video 1/1 (47/89) C:\\Users\\degas\\Documents\\Github\\Python_Image_Processing\\Data\\test_video.mp4: 1 person, 2 kites, Done. (1693.5ms) Inference, (4.0ms) NMS\n",
      "video 1/1 (48/89) C:\\Users\\degas\\Documents\\Github\\Python_Image_Processing\\Data\\test_video.mp4: 1 person, 2 kites, Done. (1698.5ms) Inference, (3.0ms) NMS\n",
      "video 1/1 (49/89) C:\\Users\\degas\\Documents\\Github\\Python_Image_Processing\\Data\\test_video.mp4: 1 person, 2 kites, Done. (1703.4ms) Inference, (4.0ms) NMS\n",
      "video 1/1 (50/89) C:\\Users\\degas\\Documents\\Github\\Python_Image_Processing\\Data\\test_video.mp4: 1 person, 2 kites, Done. (1687.4ms) Inference, (3.0ms) NMS\n",
      "video 1/1 (51/89) C:\\Users\\degas\\Documents\\Github\\Python_Image_Processing\\Data\\test_video.mp4: 1 person, 2 kites, Done. (1683.7ms) Inference, (2.0ms) NMS\n",
      "video 1/1 (52/89) C:\\Users\\degas\\Documents\\Github\\Python_Image_Processing\\Data\\test_video.mp4: 1 person, 2 kites, Done. (1698.8ms) Inference, (3.0ms) NMS\n",
      "video 1/1 (53/89) C:\\Users\\degas\\Documents\\Github\\Python_Image_Processing\\Data\\test_video.mp4: 1 person, 2 kites, Done. (1688.8ms) Inference, (4.1ms) NMS\n",
      "video 1/1 (54/89) C:\\Users\\degas\\Documents\\Github\\Python_Image_Processing\\Data\\test_video.mp4: 1 person, 2 kites, Done. (1686.1ms) Inference, (4.0ms) NMS\n",
      "video 1/1 (55/89) C:\\Users\\degas\\Documents\\Github\\Python_Image_Processing\\Data\\test_video.mp4: 1 person, 2 kites, Done. (1626.9ms) Inference, (4.0ms) NMS\n",
      "video 1/1 (56/89) C:\\Users\\degas\\Documents\\Github\\Python_Image_Processing\\Data\\test_video.mp4: 1 person, 1 kite, Done. (1667.7ms) Inference, (4.1ms) NMS\n",
      "video 1/1 (57/89) C:\\Users\\degas\\Documents\\Github\\Python_Image_Processing\\Data\\test_video.mp4: 1 person, 2 kites, Done. (1708.5ms) Inference, (4.0ms) NMS\n",
      "video 1/1 (58/89) C:\\Users\\degas\\Documents\\Github\\Python_Image_Processing\\Data\\test_video.mp4: 1 person, 2 kites, Done. (1693.7ms) Inference, (2.0ms) NMS\n",
      "video 1/1 (59/89) C:\\Users\\degas\\Documents\\Github\\Python_Image_Processing\\Data\\test_video.mp4: 1 person, 2 kites, Done. (1693.9ms) Inference, (3.0ms) NMS\n",
      "video 1/1 (60/89) C:\\Users\\degas\\Documents\\Github\\Python_Image_Processing\\Data\\test_video.mp4: 1 person, 2 kites, Done. (1684.3ms) Inference, (4.0ms) NMS\n",
      "video 1/1 (61/89) C:\\Users\\degas\\Documents\\Github\\Python_Image_Processing\\Data\\test_video.mp4: 1 person, 2 kites, Done. (1700.7ms) Inference, (2.0ms) NMS\n",
      "video 1/1 (62/89) C:\\Users\\degas\\Documents\\Github\\Python_Image_Processing\\Data\\test_video.mp4: 1 person, 2 kites, Done. (1655.6ms) Inference, (3.0ms) NMS\n",
      "video 1/1 (63/89) C:\\Users\\degas\\Documents\\Github\\Python_Image_Processing\\Data\\test_video.mp4: 1 person, 2 kites, Done. (1521.2ms) Inference, (2.0ms) NMS\n",
      "video 1/1 (64/89) C:\\Users\\degas\\Documents\\Github\\Python_Image_Processing\\Data\\test_video.mp4: 1 person, 3 kites, Done. (1696.6ms) Inference, (3.0ms) NMS\n",
      "video 1/1 (65/89) C:\\Users\\degas\\Documents\\Github\\Python_Image_Processing\\Data\\test_video.mp4: 1 person, 2 kites, Done. (1681.4ms) Inference, (3.0ms) NMS\n",
      "video 1/1 (66/89) C:\\Users\\degas\\Documents\\Github\\Python_Image_Processing\\Data\\test_video.mp4: 1 person, 3 kites, Done. (1685.4ms) Inference, (3.2ms) NMS\n",
      "video 1/1 (67/89) C:\\Users\\degas\\Documents\\Github\\Python_Image_Processing\\Data\\test_video.mp4: 1 person, 2 kites, Done. (1697.3ms) Inference, (3.2ms) NMS\n",
      "video 1/1 (68/89) C:\\Users\\degas\\Documents\\Github\\Python_Image_Processing\\Data\\test_video.mp4: 1 person, 3 kites, Done. (1675.1ms) Inference, (4.0ms) NMS\n",
      "video 1/1 (69/89) C:\\Users\\degas\\Documents\\Github\\Python_Image_Processing\\Data\\test_video.mp4: 1 person, 3 kites, Done. (1688.6ms) Inference, (2.0ms) NMS\n",
      "video 1/1 (70/89) C:\\Users\\degas\\Documents\\Github\\Python_Image_Processing\\Data\\test_video.mp4: 1 person, 3 kites, Done. (1686.0ms) Inference, (3.1ms) NMS\n",
      "video 1/1 (71/89) C:\\Users\\degas\\Documents\\Github\\Python_Image_Processing\\Data\\test_video.mp4: 1 person, 2 kites, Done. (1685.3ms) Inference, (2.0ms) NMS\n",
      "video 1/1 (72/89) C:\\Users\\degas\\Documents\\Github\\Python_Image_Processing\\Data\\test_video.mp4: 1 person, 2 kites, Done. (1701.9ms) Inference, (2.8ms) NMS\n",
      "video 1/1 (73/89) C:\\Users\\degas\\Documents\\Github\\Python_Image_Processing\\Data\\test_video.mp4: 1 person, 2 kites, Done. (1692.5ms) Inference, (2.0ms) NMS\n",
      "video 1/1 (74/89) C:\\Users\\degas\\Documents\\Github\\Python_Image_Processing\\Data\\test_video.mp4: 1 person, 1 kite, Done. (1697.9ms) Inference, (4.0ms) NMS\n",
      "video 1/1 (75/89) C:\\Users\\degas\\Documents\\Github\\Python_Image_Processing\\Data\\test_video.mp4: 1 person, 3 kites, Done. (1706.1ms) Inference, (4.0ms) NMS\n",
      "video 1/1 (76/89) C:\\Users\\degas\\Documents\\Github\\Python_Image_Processing\\Data\\test_video.mp4: 1 person, 3 kites, Done. (1691.3ms) Inference, (3.0ms) NMS\n",
      "video 1/1 (77/89) C:\\Users\\degas\\Documents\\Github\\Python_Image_Processing\\Data\\test_video.mp4: 1 person, 2 kites, Done. (1698.8ms) Inference, (2.0ms) NMS\n",
      "video 1/1 (78/89) C:\\Users\\degas\\Documents\\Github\\Python_Image_Processing\\Data\\test_video.mp4: 1 person, 2 kites, Done. (1696.3ms) Inference, (4.0ms) NMS\n",
      "video 1/1 (79/89) C:\\Users\\degas\\Documents\\Github\\Python_Image_Processing\\Data\\test_video.mp4: 3 kites, Done. (1693.5ms) Inference, (3.1ms) NMS\n",
      "video 1/1 (80/89) C:\\Users\\degas\\Documents\\Github\\Python_Image_Processing\\Data\\test_video.mp4: 3 kites, Done. (1703.0ms) Inference, (4.0ms) NMS\n",
      "video 1/1 (81/89) C:\\Users\\degas\\Documents\\Github\\Python_Image_Processing\\Data\\test_video.mp4: 3 kites, Done. (1691.9ms) Inference, (3.0ms) NMS\n",
      "video 1/1 (82/89) C:\\Users\\degas\\Documents\\Github\\Python_Image_Processing\\Data\\test_video.mp4: 1 person, 3 kites, Done. (1693.7ms) Inference, (3.0ms) NMS\n",
      "video 1/1 (83/89) C:\\Users\\degas\\Documents\\Github\\Python_Image_Processing\\Data\\test_video.mp4: 3 kites, Done. (1701.2ms) Inference, (2.0ms) NMS\n",
      "video 1/1 (84/89) C:\\Users\\degas\\Documents\\Github\\Python_Image_Processing\\Data\\test_video.mp4: 1 person, 2 kites, Done. (1696.5ms) Inference, (4.0ms) NMS\n",
      "video 1/1 (85/89) C:\\Users\\degas\\Documents\\Github\\Python_Image_Processing\\Data\\test_video.mp4: 1 person, 2 kites, Done. (1676.8ms) Inference, (2.0ms) NMS\n",
      "video 1/1 (86/89) C:\\Users\\degas\\Documents\\Github\\Python_Image_Processing\\Data\\test_video.mp4: 1 person, 2 kites, Done. (1700.2ms) Inference, (3.0ms) NMS\n",
      "video 1/1 (87/89) C:\\Users\\degas\\Documents\\Github\\Python_Image_Processing\\Data\\test_video.mp4: 1 person, 2 kites, Done. (1689.0ms) Inference, (3.0ms) NMS\n",
      "video 1/1 (88/89) C:\\Users\\degas\\Documents\\Github\\Python_Image_Processing\\Data\\test_video.mp4: 1 person, 1 kite, Done. (1154.3ms) Inference, (4.1ms) NMS\n",
      "video 1/1 (89/89) C:\\Users\\degas\\Documents\\Github\\Python_Image_Processing\\Data\\test_video.mp4: 1 person, 1 bench, 2 kites, Done. (918.2ms) Inference, (2.0ms) NMS\n",
      "Done. (148.613s)\n"
     ]
    },
    {
     "name": "stderr",
     "output_type": "stream",
     "text": [
      "YOLOR  v0.1-122-g3b41c2c torch 2.0.1+cpu CPU\n",
      "\n",
      "Model Summary: 306 layers, 36905341 parameters, 6652669 gradients\n",
      "C:\\Users\\degas\\AppData\\Local\\Programs\\Python\\Python310\\lib\\site-packages\\torch\\functional.py:504: UserWarning: torch.meshgrid: in an upcoming release, it will be required to pass the indexing argument. (Triggered internally at ..\\aten\\src\\ATen\\native\\TensorShape.cpp:3484.)\n",
      "  return _VF.meshgrid(tensors, **kwargs)  # type: ignore[attr-defined]\n"
     ]
    }
   ],
   "source": [
    "!python detect.py --weights yolov7.pt --conf 0.25 --img-size 640 --source C:\\\\Users\\\\degas\\\\Documents\\\\Github\\\\Python_Image_Processing\\\\Data\\\\test_video.mp4"
   ]
  },
  {
   "cell_type": "code",
   "execution_count": 9,
   "id": "de119671",
   "metadata": {},
   "outputs": [],
   "source": [
    "# Results will be stored in the repo runs/detect/exp*/your_video name inside your yolov7 folder"
   ]
  },
  {
   "cell_type": "markdown",
   "id": "b9868744",
   "metadata": {},
   "source": [
    "The model output will be a video with a bound-box around every identified object and their level of confidence"
   ]
  }
 ],
 "metadata": {
  "kernelspec": {
   "display_name": "Python 3 (ipykernel)",
   "language": "python",
   "name": "python3"
  },
  "language_info": {
   "codemirror_mode": {
    "name": "ipython",
    "version": 3
   },
   "file_extension": ".py",
   "mimetype": "text/x-python",
   "name": "python",
   "nbconvert_exporter": "python",
   "pygments_lexer": "ipython3",
   "version": "3.10.11"
  }
 },
 "nbformat": 4,
 "nbformat_minor": 5
}
