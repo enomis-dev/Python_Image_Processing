{
 "cells": [
  {
   "cell_type": "markdown",
   "id": "1e9fa503",
   "metadata": {},
   "source": [
    "# Learn how to open a video and rescale it"
   ]
  },
  {
   "cell_type": "code",
   "execution_count": 3,
   "id": "92a5286a",
   "metadata": {},
   "outputs": [],
   "source": [
    "import cv2 as cv\n",
    "import os\n",
    "from pathlib import Path"
   ]
  },
  {
   "cell_type": "code",
   "execution_count": 2,
   "id": "a1f2a25e",
   "metadata": {},
   "outputs": [
    {
     "ename": "AttributeError",
     "evalue": "'NoneType' object has no attribute 'shape'",
     "output_type": "error",
     "traceback": [
      "\u001b[1;31m---------------------------------------------------------------------------\u001b[0m",
      "\u001b[1;31mAttributeError\u001b[0m                            Traceback (most recent call last)",
      "Cell \u001b[1;32mIn[2], line 26\u001b[0m\n\u001b[0;32m     23\u001b[0m \u001b[38;5;28;01mwhile\u001b[39;00m \u001b[38;5;28;01mTrue\u001b[39;00m:\n\u001b[0;32m     24\u001b[0m     isTrue, frame \u001b[38;5;241m=\u001b[39m capture\u001b[38;5;241m.\u001b[39mread()\n\u001b[1;32m---> 26\u001b[0m     frame_resized \u001b[38;5;241m=\u001b[39m \u001b[43mrescaleFrame\u001b[49m\u001b[43m(\u001b[49m\u001b[43mframe\u001b[49m\u001b[43m,\u001b[49m\u001b[43m \u001b[49m\u001b[38;5;241;43m0.2\u001b[39;49m\u001b[43m)\u001b[49m\n\u001b[0;32m     28\u001b[0m     \u001b[38;5;66;03m# cv.imshow('Video', frame)  to see the full size frame\u001b[39;00m\n\u001b[0;32m     29\u001b[0m     cv\u001b[38;5;241m.\u001b[39mimshow(\u001b[38;5;124m'\u001b[39m\u001b[38;5;124mVideo Resized\u001b[39m\u001b[38;5;124m'\u001b[39m, frame_resized)\n",
      "Cell \u001b[1;32mIn[2], line 3\u001b[0m, in \u001b[0;36mrescaleFrame\u001b[1;34m(frame, scale)\u001b[0m\n\u001b[0;32m      2\u001b[0m \u001b[38;5;28;01mdef\u001b[39;00m \u001b[38;5;21mrescaleFrame\u001b[39m(frame, scale\u001b[38;5;241m=\u001b[39m\u001b[38;5;241m0.75\u001b[39m):\n\u001b[1;32m----> 3\u001b[0m     width \u001b[38;5;241m=\u001b[39m \u001b[38;5;28mint\u001b[39m(\u001b[43mframe\u001b[49m\u001b[38;5;241;43m.\u001b[39;49m\u001b[43mshape\u001b[49m[\u001b[38;5;241m1\u001b[39m] \u001b[38;5;241m*\u001b[39m scale)\n\u001b[0;32m      4\u001b[0m     height \u001b[38;5;241m=\u001b[39m \u001b[38;5;28mint\u001b[39m(frame\u001b[38;5;241m.\u001b[39mshape[\u001b[38;5;241m0\u001b[39m] \u001b[38;5;241m*\u001b[39m scale)\n\u001b[0;32m      5\u001b[0m     dimensions \u001b[38;5;241m=\u001b[39m( width,height)\n",
      "\u001b[1;31mAttributeError\u001b[0m: 'NoneType' object has no attribute 'shape'"
     ]
    }
   ],
   "source": [
    "# this  function is used to rescale a frame (work for images and videos and live videos)\n",
    "def rescaleFrame(frame, scale=0.75):\n",
    "    width = int(frame.shape[1] * scale)\n",
    "    height = int(frame.shape[0] * scale)\n",
    "    dimensions =( width,height)\n",
    "\n",
    "    return cv.resize(frame, dimensions, interpolation=cv.INTER_AREA)\n",
    "\n",
    "# this work for live videos\n",
    "def changeRes(width,height):\n",
    "    # Live videos\n",
    "    capture.set(3,width)\n",
    "    capture.set(4,width)\n",
    "\n",
    "\n",
    "source_path = Path().absolute().parent\n",
    "video_path = os.path.join(source_path, 'Data', 'kite.mkv')\n",
    "\n",
    "# reading videos\n",
    "capture = cv.VideoCapture(video_path)\n",
    "\n",
    "# we read the video frame by frame\n",
    "while True:\n",
    "    isTrue, frame = capture.read()\n",
    "\n",
    "    frame_resized = rescaleFrame(frame, 0.2)\n",
    "\n",
    "    # cv.imshow('Video', frame)  to see the full size frame\n",
    "    cv.imshow('Video Resized', frame_resized)\n",
    "\n",
    "    # to stop the video from playing indefinitly press d\n",
    "    if cv.waitKey(20) & 0xFF == ord('d'):\n",
    "        break\n",
    "        \n",
    "capture.release()\n",
    "cv.destroyAllWindows()\n",
    "\n",
    "# wait an infinite amount of time\n",
    "cv.waitKey(0)"
   ]
  }
 ],
 "metadata": {
  "kernelspec": {
   "display_name": "Python 3 (ipykernel)",
   "language": "python",
   "name": "python3"
  },
  "language_info": {
   "codemirror_mode": {
    "name": "ipython",
    "version": 3
   },
   "file_extension": ".py",
   "mimetype": "text/x-python",
   "name": "python",
   "nbconvert_exporter": "python",
   "pygments_lexer": "ipython3",
   "version": "3.10.11"
  }
 },
 "nbformat": 4,
 "nbformat_minor": 5
}
